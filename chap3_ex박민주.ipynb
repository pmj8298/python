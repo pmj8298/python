{
 "cells": [
  {
   "cell_type": "markdown",
   "id": "5a577db8-2e67-447b-bc6d-220effda5c45",
   "metadata": {},
   "source": [
    "## 되새김문제"
   ]
  },
  {
   "cell_type": "markdown",
   "id": "d20bbe16-c4a6-4c94-bafc-876ba4c3bc7e",
   "metadata": {},
   "source": [
    "### 조건문의 참과 거짓"
   ]
  },
  {
   "cell_type": "code",
   "execution_count": 1,
   "id": "edd27131-df95-49e7-b65c-aa93f26fd6d4",
   "metadata": {},
   "outputs": [
    {
     "name": "stdout",
     "output_type": "stream",
     "text": [
      "shirt\n"
     ]
    }
   ],
   "source": [
    "a = 'Life is too short, you need python'\n",
    "\n",
    "if 'wife' in a:\n",
    "    print('wife')\n",
    "elif 'python' in a and 'you' not in a:\n",
    "    print('python')\n",
    "elif 'shirt' not in a:\n",
    "    print('shirt')\n",
    "elif 'need' in a:\n",
    "    print('need')\n",
    "else:\n",
    "    print('none')"
   ]
  },
  {
   "cell_type": "markdown",
   "id": "aad72f42-273e-462c-be5e-773384db612e",
   "metadata": {},
   "source": [
    "### 3의 배수 합 구하기"
   ]
  },
  {
   "cell_type": "code",
   "execution_count": 2,
   "id": "df673977-a66c-41d7-a495-0e7f97ada029",
   "metadata": {},
   "outputs": [
    {
     "name": "stdout",
     "output_type": "stream",
     "text": [
      "166833\n"
     ]
    }
   ],
   "source": [
    "result = 0\n",
    "i = 1\n",
    "while i <= 1000:\n",
    "    if i % 3 == 0:\n",
    "        result += i\n",
    "    i += 1\n",
    "print(result)"
   ]
  },
  {
   "cell_type": "markdown",
   "id": "f6b1a66e-710b-40ae-bf37-1f75bb30e1e2",
   "metadata": {},
   "source": [
    "### 별 표시하기"
   ]
  },
  {
   "cell_type": "code",
   "execution_count": 9,
   "id": "52581e68-f977-4769-8221-84146c28b11e",
   "metadata": {},
   "outputs": [
    {
     "name": "stdout",
     "output_type": "stream",
     "text": [
      "*\n",
      "**\n",
      "***\n",
      "****\n",
      "*****\n"
     ]
    }
   ],
   "source": [
    "i = 0\n",
    "while True:\n",
    "    i += 1\n",
    "    if i > 5:\n",
    "        break\n",
    "    print(i * '*')"
   ]
  },
  {
   "cell_type": "markdown",
   "id": "47236ccc-4b37-4fc8-afe5-131f440a706b",
   "metadata": {},
   "source": [
    "### 1부터 100까지 출력하기"
   ]
  },
  {
   "cell_type": "code",
   "execution_count": 10,
   "id": "b01602a6-828c-4d82-9d95-ced6a4ff6b28",
   "metadata": {},
   "outputs": [
    {
     "name": "stdout",
     "output_type": "stream",
     "text": [
      "1\n",
      "2\n",
      "3\n",
      "4\n",
      "5\n",
      "6\n",
      "7\n",
      "8\n",
      "9\n",
      "10\n",
      "11\n",
      "12\n",
      "13\n",
      "14\n",
      "15\n",
      "16\n",
      "17\n",
      "18\n",
      "19\n",
      "20\n",
      "21\n",
      "22\n",
      "23\n",
      "24\n",
      "25\n",
      "26\n",
      "27\n",
      "28\n",
      "29\n",
      "30\n",
      "31\n",
      "32\n",
      "33\n",
      "34\n",
      "35\n",
      "36\n",
      "37\n",
      "38\n",
      "39\n",
      "40\n",
      "41\n",
      "42\n",
      "43\n",
      "44\n",
      "45\n",
      "46\n",
      "47\n",
      "48\n",
      "49\n",
      "50\n",
      "51\n",
      "52\n",
      "53\n",
      "54\n",
      "55\n",
      "56\n",
      "57\n",
      "58\n",
      "59\n",
      "60\n",
      "61\n",
      "62\n",
      "63\n",
      "64\n",
      "65\n",
      "66\n",
      "67\n",
      "68\n",
      "69\n",
      "70\n",
      "71\n",
      "72\n",
      "73\n",
      "74\n",
      "75\n",
      "76\n",
      "77\n",
      "78\n",
      "79\n",
      "80\n",
      "81\n",
      "82\n",
      "83\n",
      "84\n",
      "85\n",
      "86\n",
      "87\n",
      "88\n",
      "89\n",
      "90\n",
      "91\n",
      "92\n",
      "93\n",
      "94\n",
      "95\n",
      "96\n",
      "97\n",
      "98\n",
      "99\n",
      "100\n"
     ]
    }
   ],
   "source": [
    "for n in range(1,101):\n",
    "    print(n)"
   ]
  },
  {
   "cell_type": "markdown",
   "id": "a30a3a71-a114-4791-8daa-bd61032cf4d0",
   "metadata": {},
   "source": [
    "### 평균 점수 구하기"
   ]
  },
  {
   "cell_type": "code",
   "execution_count": 11,
   "id": "38335c80-eb17-4a94-b403-5dfdac77b9c3",
   "metadata": {
    "scrolled": true
   },
   "outputs": [
    {
     "name": "stdout",
     "output_type": "stream",
     "text": [
      "79.0\n"
     ]
    }
   ],
   "source": [
    "score = [70,60,55,75,95,90,80,80,85,100]\n",
    "total = 0\n",
    "for s in score:\n",
    "    total += s\n",
    "average = total / 10\n",
    "print(average)"
   ]
  },
  {
   "cell_type": "code",
   "execution_count": null,
   "id": "a32f7e65-89f6-4286-9975-f35ef7302301",
   "metadata": {},
   "outputs": [],
   "source": []
  }
 ],
 "metadata": {
  "kernelspec": {
   "display_name": "Python 3 (ipykernel)",
   "language": "python",
   "name": "python3"
  },
  "language_info": {
   "codemirror_mode": {
    "name": "ipython",
    "version": 3
   },
   "file_extension": ".py",
   "mimetype": "text/x-python",
   "name": "python",
   "nbconvert_exporter": "python",
   "pygments_lexer": "ipython3",
   "version": "3.13.1"
  }
 },
 "nbformat": 4,
 "nbformat_minor": 5
}
