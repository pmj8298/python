{
 "cells": [
  {
   "cell_type": "markdown",
   "id": "c74e9666-669f-49fc-abb7-e5f368e332d2",
   "metadata": {},
   "source": [
    "# 인천공항 이용자 수 분석 및 예측"
   ]
  },
  {
   "attachments": {
    "3e27d959-abc6-4668-8e91-826125d76dd7.png": {
     "image/png": "[encoded data removed]"
    },
    "547cff38-c177-4755-b4ac-784081475703.png": {
     "image/png": "[encoded data removed]"
    },
    "8b59720e-405e-4cad-9c2f-177673c1c84f.png": {
     "image/png": "[encoded data removed]"
    }
   },
   "cell_type": "markdown",
   "id": "66c6439a-d38c-4aaf-89ce-26bb90445202",
   "metadata": {},
   "source": [
    "- https://kosis.kr/statHtml/statHtml.do?sso=ok&returnurl=https%3A%2F%2Fkosis.kr%3A443%2FstatHtml%2FstatHtml.do%3Fconn_path%3DMT_ZTITLE%26list_id%3DA_2%26obj_var_id%3D%26seqNo%3D%26tblId%3DDT_1B28024%26vw_cd%3DMT_ZTITLE%26itm_id%3D%26language%3Dkor%26lang_mode%3Dko%26orgId%3D101%26\n",
    "- <img src = 'attachment:8b59720e-405e-4cad-9c2f-177673c1c84f.png' width=300>\n",
    "- <img src = 'attachment:3e27d959-abc6-4668-8e91-826125d76dd7.png' width=300>\n",
    "- <img src = 'attachment:547cff38-c177-4755-b4ac-784081475703.png' width=300>"
   ]
  },
  {
   "cell_type": "code",
   "execution_count": 1,
   "id": "dc1b2b4a-97c9-44fa-833b-c9fc020d1c8d",
   "metadata": {},
   "outputs": [],
   "source": [
    "import pandas as pd\n",
    "import matplotlib\n",
    "import matplotlib.pyplot as plt\n",
    "import matplotlib.font_manager as fm"
   ]
  },
  {
   "cell_type": "code",
   "execution_count": 2,
   "id": "53191887-0395-4a9d-bd33-2b17b03303cb",
   "metadata": {},
   "outputs": [
    {
     "data": {
      "text/html": [
       "<div>\n",
       "<style scoped>\n",
       "    .dataframe tbody tr th:only-of-type {\n",
       "        vertical-align: middle;\n",
       "    }\n",
       "\n",
       "    .dataframe tbody tr th {\n",
       "        vertical-align: top;\n",
       "    }\n",
       "\n",
       "    .dataframe thead th {\n",
       "        text-align: right;\n",
       "    }\n",
       "</style>\n",
       "<table border=\"1\" class=\"dataframe\">\n",
       "  <thead>\n",
       "    <tr style=\"text-align: right;\">\n",
       "      <th></th>\n",
       "      <th>출입국항별</th>\n",
       "      <th>내외국인별</th>\n",
       "      <th>성별</th>\n",
       "      <th>시점</th>\n",
       "      <th>항목</th>\n",
       "      <th>데이터</th>\n",
       "    </tr>\n",
       "  </thead>\n",
       "  <tbody>\n",
       "    <tr>\n",
       "      <th>0</th>\n",
       "      <td>인천공항</td>\n",
       "      <td>내국인</td>\n",
       "      <td>남자</td>\n",
       "      <td>2001</td>\n",
       "      <td>입국자</td>\n",
       "      <td>70444</td>\n",
       "    </tr>\n",
       "    <tr>\n",
       "      <th>1</th>\n",
       "      <td>인천공항</td>\n",
       "      <td>내국인</td>\n",
       "      <td>남자</td>\n",
       "      <td>2001</td>\n",
       "      <td>출국자</td>\n",
       "      <td>96551</td>\n",
       "    </tr>\n",
       "    <tr>\n",
       "      <th>2</th>\n",
       "      <td>인천공항</td>\n",
       "      <td>내국인</td>\n",
       "      <td>남자</td>\n",
       "      <td>2002</td>\n",
       "      <td>입국자</td>\n",
       "      <td>101032</td>\n",
       "    </tr>\n",
       "    <tr>\n",
       "      <th>3</th>\n",
       "      <td>인천공항</td>\n",
       "      <td>내국인</td>\n",
       "      <td>남자</td>\n",
       "      <td>2002</td>\n",
       "      <td>출국자</td>\n",
       "      <td>124319</td>\n",
       "    </tr>\n",
       "    <tr>\n",
       "      <th>4</th>\n",
       "      <td>인천공항</td>\n",
       "      <td>내국인</td>\n",
       "      <td>남자</td>\n",
       "      <td>2003</td>\n",
       "      <td>입국자</td>\n",
       "      <td>102093</td>\n",
       "    </tr>\n",
       "  </tbody>\n",
       "</table>\n",
       "</div>"
      ],
      "text/plain": [
       "  출입국항별 내외국인별  성별    시점   항목     데이터\n",
       "0  인천공항   내국인  남자  2001  입국자   70444\n",
       "1  인천공항   내국인  남자  2001  출국자   96551\n",
       "2  인천공항   내국인  남자  2002  입국자  101032\n",
       "3  인천공항   내국인  남자  2002  출국자  124319\n",
       "4  인천공항   내국인  남자  2003  입국자  102093"
      ]
     },
     "execution_count": 2,
     "metadata": {},
     "output_type": "execute_result"
    }
   ],
   "source": [
    "file_path = './ref/출입국항구내외국인성별국제이동연간20250305.csv'\n",
    "ori = pd.read_csv(file_path, encoding='EUC-KR')\n",
    "ori.head()"
   ]
  },
  {
   "cell_type": "code",
   "execution_count": 3,
   "id": "ba8bc21b-dc48-439d-8c6f-92f91c8106af",
   "metadata": {},
   "outputs": [
    {
     "data": {
      "text/html": [
       "<div>\n",
       "<style scoped>\n",
       "    .dataframe tbody tr th:only-of-type {\n",
       "        vertical-align: middle;\n",
       "    }\n",
       "\n",
       "    .dataframe tbody tr th {\n",
       "        vertical-align: top;\n",
       "    }\n",
       "\n",
       "    .dataframe thead th {\n",
       "        text-align: right;\n",
       "    }\n",
       "</style>\n",
       "<table border=\"1\" class=\"dataframe\">\n",
       "  <thead>\n",
       "    <tr style=\"text-align: right;\">\n",
       "      <th></th>\n",
       "      <th>airport</th>\n",
       "      <th>type1</th>\n",
       "      <th>gender</th>\n",
       "      <th>year</th>\n",
       "      <th>type2</th>\n",
       "      <th>value</th>\n",
       "    </tr>\n",
       "  </thead>\n",
       "  <tbody>\n",
       "    <tr>\n",
       "      <th>0</th>\n",
       "      <td>인천공항</td>\n",
       "      <td>내국인</td>\n",
       "      <td>남자</td>\n",
       "      <td>2001</td>\n",
       "      <td>입국자</td>\n",
       "      <td>70444</td>\n",
       "    </tr>\n",
       "    <tr>\n",
       "      <th>1</th>\n",
       "      <td>인천공항</td>\n",
       "      <td>내국인</td>\n",
       "      <td>남자</td>\n",
       "      <td>2001</td>\n",
       "      <td>출국자</td>\n",
       "      <td>96551</td>\n",
       "    </tr>\n",
       "    <tr>\n",
       "      <th>2</th>\n",
       "      <td>인천공항</td>\n",
       "      <td>내국인</td>\n",
       "      <td>남자</td>\n",
       "      <td>2002</td>\n",
       "      <td>입국자</td>\n",
       "      <td>101032</td>\n",
       "    </tr>\n",
       "    <tr>\n",
       "      <th>3</th>\n",
       "      <td>인천공항</td>\n",
       "      <td>내국인</td>\n",
       "      <td>남자</td>\n",
       "      <td>2002</td>\n",
       "      <td>출국자</td>\n",
       "      <td>124319</td>\n",
       "    </tr>\n",
       "    <tr>\n",
       "      <th>4</th>\n",
       "      <td>인천공항</td>\n",
       "      <td>내국인</td>\n",
       "      <td>남자</td>\n",
       "      <td>2003</td>\n",
       "      <td>입국자</td>\n",
       "      <td>102093</td>\n",
       "    </tr>\n",
       "    <tr>\n",
       "      <th>...</th>\n",
       "      <td>...</td>\n",
       "      <td>...</td>\n",
       "      <td>...</td>\n",
       "      <td>...</td>\n",
       "      <td>...</td>\n",
       "      <td>...</td>\n",
       "    </tr>\n",
       "    <tr>\n",
       "      <th>179</th>\n",
       "      <td>인천공항</td>\n",
       "      <td>외국인</td>\n",
       "      <td>여자</td>\n",
       "      <td>2021</td>\n",
       "      <td>출국자</td>\n",
       "      <td>112458</td>\n",
       "    </tr>\n",
       "    <tr>\n",
       "      <th>180</th>\n",
       "      <td>인천공항</td>\n",
       "      <td>외국인</td>\n",
       "      <td>여자</td>\n",
       "      <td>2022</td>\n",
       "      <td>입국자</td>\n",
       "      <td>172332</td>\n",
       "    </tr>\n",
       "    <tr>\n",
       "      <th>181</th>\n",
       "      <td>인천공항</td>\n",
       "      <td>외국인</td>\n",
       "      <td>여자</td>\n",
       "      <td>2022</td>\n",
       "      <td>출국자</td>\n",
       "      <td>106797</td>\n",
       "    </tr>\n",
       "    <tr>\n",
       "      <th>182</th>\n",
       "      <td>인천공항</td>\n",
       "      <td>외국인</td>\n",
       "      <td>여자</td>\n",
       "      <td>2023</td>\n",
       "      <td>입국자</td>\n",
       "      <td>181388</td>\n",
       "    </tr>\n",
       "    <tr>\n",
       "      <th>183</th>\n",
       "      <td>인천공항</td>\n",
       "      <td>외국인</td>\n",
       "      <td>여자</td>\n",
       "      <td>2023</td>\n",
       "      <td>출국자</td>\n",
       "      <td>130769</td>\n",
       "    </tr>\n",
       "  </tbody>\n",
       "</table>\n",
       "<p>184 rows × 6 columns</p>\n",
       "</div>"
      ],
      "text/plain": [
       "    airport type1 gender  year type2   value\n",
       "0      인천공항   내국인     남자  2001   입국자   70444\n",
       "1      인천공항   내국인     남자  2001   출국자   96551\n",
       "2      인천공항   내국인     남자  2002   입국자  101032\n",
       "3      인천공항   내국인     남자  2002   출국자  124319\n",
       "4      인천공항   내국인     남자  2003   입국자  102093\n",
       "..      ...   ...    ...   ...   ...     ...\n",
       "179    인천공항   외국인     여자  2021   출국자  112458\n",
       "180    인천공항   외국인     여자  2022   입국자  172332\n",
       "181    인천공항   외국인     여자  2022   출국자  106797\n",
       "182    인천공항   외국인     여자  2023   입국자  181388\n",
       "183    인천공항   외국인     여자  2023   출국자  130769\n",
       "\n",
       "[184 rows x 6 columns]"
      ]
     },
     "execution_count": 3,
     "metadata": {},
     "output_type": "execute_result"
    }
   ],
   "source": [
    "ex1_data = ori.copy()\n",
    "ex1_data.columns = ['airport','type1','gender','year','type2','value']\n",
    "# ex1_data.rename(columns={'출입국항별':'airport'})\n",
    "# 모든 컬럼을 한꺼번에 변경해야 한다면 → ex1_data.columns = ['']\n",
    "# 일부 컬럼만 바꾸고 싶다면 → ex1_data.rename(columns={'':''})\n",
    "ex1_data"
   ]
  },
  {
   "cell_type": "code",
   "execution_count": null,
   "id": "b5979d8a-143b-4815-9836-9b90aba99c99",
   "metadata": {},
   "outputs": [],
   "source": [
    "ex11_data = ex1_data.groupby('year')['value'].sum().reset_index(name='total')\n",
    "ex11_data"
   ]
  },
  {
   "cell_type": "code",
   "execution_count": null,
   "id": "11d50ce3-a0a5-484c-b45a-053877065713",
   "metadata": {},
   "outputs": [],
   "source": [
    "# filter11 = ex1_data['type1']=='내국인'\n",
    "# ex22_data = ex1_data[filter1].copy()\n",
    "# # ex1_data[filter1]\n",
    "\n",
    "filter1 = ex1_data['type1']=='외국인'\n",
    "ex1_filtered = ex1_data[filter1]\n",
    "filter2 = ex1_data['type1']=='내국인'\n",
    "ex2_filtered = ex1_data[filter2]"
   ]
  },
  {
   "cell_type": "code",
   "execution_count": null,
   "id": "a40fd980-03eb-4c5b-a867-19e60ee34eec",
   "metadata": {},
   "outputs": [],
   "source": [
    "ex1_filtered"
   ]
  },
  {
   "cell_type": "code",
   "execution_count": null,
   "id": "988c545d-79a3-46d3-9396-46254e5cd7b9",
   "metadata": {},
   "outputs": [],
   "source": [
    "ex2_filtered"
   ]
  },
  {
   "cell_type": "code",
   "execution_count": null,
   "id": "30af6c94-cca4-4641-9976-e76e4ba04c19",
   "metadata": {},
   "outputs": [],
   "source": [
    "ex2_data = ex2_filtered.groupby('year')['value'].sum().reset_index(name='total')\n",
    "ex2_data.head()"
   ]
  },
  {
   "cell_type": "code",
   "execution_count": null,
   "id": "f387b3c9-3aa6-446c-b56c-18cdc8f0695e",
   "metadata": {},
   "outputs": [],
   "source": [
    "filter3 = ex2_filtered['type2']=='입국자'\n",
    "ex3_filtered = ex2_filtered[filter3]\n",
    "filter4 = ex2_filtered['type2']=='출국자'\n",
    "ex4_filtered = ex2_filtered[filter4]\n",
    "ex3_data = ex3_filtered.groupby('year')['value'].sum().reset_index(name=\"total\")\n",
    "ex4_data = ex4_filtered.groupby('year')['value'].sum().reset_index(name=\"total\")"
   ]
  },
  {
   "cell_type": "code",
   "execution_count": null,
   "id": "92a6c0ff-fc7f-4c6c-a82c-8e04da1fbf7b",
   "metadata": {},
   "outputs": [],
   "source": [
    "ex3_data"
   ]
  },
  {
   "cell_type": "code",
   "execution_count": null,
   "id": "f6950825-efd4-4146-a2a8-1a496b31cecb",
   "metadata": {},
   "outputs": [],
   "source": [
    "ex4_data"
   ]
  },
  {
   "cell_type": "code",
   "execution_count": null,
   "id": "a9bc8649-e169-4b2d-8d90-4add4d15d009",
   "metadata": {},
   "outputs": [],
   "source": [
    "d2_path = './ref/D2Coding-Ver1.3.2-20180524.ttf'\n",
    "fm.fontManager.addfont(d2_path)\n",
    "matplotlib.rcParams['font.family']='D2Coding'"
   ]
  },
  {
   "cell_type": "code",
   "execution_count": null,
   "id": "6c3c0d45-6dae-402b-b39e-a90e3448218e",
   "metadata": {},
   "outputs": [],
   "source": [
    "ex3_data.plot(figsize=(10,5), title='2021~2023년 인천공항 입국 내국인 차트')\n",
    "\n",
    "plt.show()"
   ]
  },
  {
   "cell_type": "code",
   "execution_count": null,
   "id": "21ba9cfa-57ed-4474-8917-e7e9a7b6a986",
   "metadata": {},
   "outputs": [],
   "source": [
    "ex4_data.plot(figsize=(10,5), title='2021~2023년 인천공항 출국 내국인 차트')\n",
    "\n",
    "plt.show()"
   ]
  },
  {
   "cell_type": "code",
   "execution_count": null,
   "id": "63ee6880-32aa-4650-af61-08b325e55adb",
   "metadata": {},
   "outputs": [],
   "source": [
    "#!pip install prophet\n",
    "#!pip install --upgrade plotly\n",
    "# !pip install tqdm\n",
    "# !pip install --upgrade jupyter ipywidgets"
   ]
  },
  {
   "cell_type": "code",
   "execution_count": null,
   "id": "7a55d3c7-6ff1-4920-a4c3-b6ac1c2d8f16",
   "metadata": {},
   "outputs": [],
   "source": [
    "from prophet import Prophet\n",
    "# from .autonotebook import tqdm as notebook_tqdm"
   ]
  },
  {
   "cell_type": "code",
   "execution_count": null,
   "id": "0781b883-77b3-43b9-a2ec-44e7083b6a7f",
   "metadata": {},
   "outputs": [],
   "source": [
    "# 페이스북에서는 time(year)을 ds, value는 y를 사용하므로 전처리 해주어야 한다\n",
    "ex5_data = ex2_data.copy()\n",
    "ex5_data['year'] = pd.to_datetime(ex5_data['year'], format='%Y')\n",
    "ex5_data = ex5_data.rename(columns={'year':'ds','total':'y'})\n",
    "ex5_data.tail()"
   ]
  },
  {
   "cell_type": "code",
   "execution_count": null,
   "id": "ec92c925-dd28-4d33-a11c-ed3384197750",
   "metadata": {},
   "outputs": [],
   "source": [
    "m = Prophet()\n",
    "m.fit(ex5_data)"
   ]
  },
  {
   "cell_type": "code",
   "execution_count": null,
   "id": "2f538939-94ec-4a1c-8cee-85cd380182c7",
   "metadata": {},
   "outputs": [],
   "source": [
    "future = m.make_future_dataframe(periods=10, freq='YE') # 10년 후까지의 데이터 예측\n",
    "forecast = m.predict(future)\n",
    "fig1 = m.plot(forecast)\n",
    "plt.savefig('./chart/Team예측.png')\n",
    "plt.show"
   ]
  },
  {
   "cell_type": "code",
   "execution_count": null,
   "id": "4811a789-efb3-4bf1-a139-a2734f172f55",
   "metadata": {},
   "outputs": [],
   "source": [
    "import matplotlib.pyplot as plt\n",
    "import matplotlib.image as mpimg\n",
    "# 이미지 불러오기\n",
    "img = mpimg.imread(\"./chart/Team예측.png\")\n",
    "\n",
    "fig, axs = plt.subplots(2,3,figsize=(16,8))\n",
    "\n",
    "\n",
    "axs[0,0].plot(ex3_data['year'],ex3_data['total'],color=\"y\")\n",
    "axs[0,1].plot(ex4_data['year'],ex4_data['total'],color=\"g\") \n",
    "axs[0,2].plot(ex3_data['year'],ex3_data['total'],color=\"y\") \n",
    "axs[0,2].plot(ex4_data['year'],ex4_data['total'],color=\"g\") \n",
    "axs[1,0].plot(ex2_data['year'],ex2_data['total'],color=\"r\") \n",
    "axs[1,2].plot(ex11_data['year'],ex11_data['total'],color=\"b\") \n",
    "axs[1,2].plot(ex3_data['year'],ex3_data['total'],color=\"g\") \n",
    "axs[1,2].plot(ex4_data['year'],ex4_data['total'],color=\"r\")\n",
    "\n",
    "\n",
    "axs[0,0].set_title(\"2021~2023년 인천공항 입국 내국인 차트\")\n",
    "axs[0,1].set_title(\"2021~2023년 인천공항 출국 내국인 차트\")\n",
    "axs[0,2].set_title(\"2021~2023년 인천공항 입출국 내국인 비교차트\")\n",
    "axs[1,0].set_title(\"2021~2023년 인천공항 내국인 이용객 차트\")\n",
    "axs[1,1].set_title(\"2021~2023년 인천공항 이용객 10년 이용자 예측\")\n",
    "axs[1,2].set_title(\"2021~2023년 인천공항 모든이용객과 내국인 출입 비교차트\")\n",
    "\n",
    "axins = fig.add_axes(axs[1,1])\n",
    "axins.imshow(img)\n",
    "plt.tight_layout()\n",
    "plt.show()"
   ]
  },
  {
   "cell_type": "markdown",
   "id": "4e665f43-3e87-47fa-a9d5-e9e8d08133ba",
   "metadata": {},
   "source": [
    "인천공항 내국인 출입국 통계 분석 보고서\n",
    "\n",
    "1. 개요\n",
    "\n",
    "2001년부터 2023년까지 인천공항을 통한 내외국인의 출입국 데이터를 분석한 결과이다. 분석 대상은 내외국인의 연도별 입국자 및 출국자 수의 변화추세다.\n",
    "\n",
    "2. 연도별 출입국 현황 -2012년을 기점으로 급증 후 점진적인 감소세 보임\n",
    "\n",
    "3. 주요 변화 분석\n",
    "\n",
    "1) 2012년 급증 원인\n",
    "\n",
    "한국 관광 산업 및 한류의 영향으로 외국인 관광객 증가\n",
    "\n",
    "글로벌 이벤트(예: 올림픽, 국제 회의 등)의 영향 가능성\n",
    "\n",
    "2) 2015~2019년 안정화\n",
    "\n",
    "연간 출입국자 수가 일정 수준 유지\n",
    "\n",
    "안정적인 경제 상황과 항공 노선 확대로 해외여행 증가\n",
    "\n",
    "3) 2020년 이후 감소\n",
    "\n",
    "코로나19 팬데믹 영향으로 전 세계 여행 제한 조치 시행\n",
    "\n",
    "4) 2021~2023년에는 점진적인 회복세\n",
    "\n",
    "4. 결론 및 전망\n",
    "\n",
    "2012년 출입국자의 급증은 글로벌 관광 트렌드 변화와 한류 영향이 반영된 것으로 판단됨\n",
    "\n",
    "코로나19 이후 감소세를 보임\n",
    "\n",
    "향후 경제 회복과 항공 노선 확대 여부에 따라 출입국 인원이 증가할 가능성이 있음\n",
    "\n",
    "본 보고서는 인천공항 출입국 데이터를 통해 한국의 여행 및 관광 산업 동향을 분석하는 데 기초 자료로 활용될 수 있음.\n",
    "\n"
   ]
  },
  {
   "cell_type": "code",
   "execution_count": null,
   "id": "f7012ef0-b5e6-4fb3-a3ad-7078c7104786",
   "metadata": {},
   "outputs": [],
   "source": []
  }
 ],
 "metadata": {
  "kernelspec": {
   "display_name": "Python 3 (ipykernel)",
   "language": "python",
   "name": "python3"
  },
  "language_info": {
   "codemirror_mode": {
    "name": "ipython",
    "version": 3
   },
   "file_extension": ".py",
   "mimetype": "text/x-python",
   "name": "python",
   "nbconvert_exporter": "python",
   "pygments_lexer": "ipython3",
   "version": "3.13.1"
  }
 },
 "nbformat": 4,
 "nbformat_minor": 5
}
