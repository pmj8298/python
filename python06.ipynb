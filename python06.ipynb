{
 "cells": [
  {
   "cell_type": "markdown",
   "id": "6c60f45f-e27e-439a-b2f1-63c8b627af65",
   "metadata": {},
   "source": [
    "# 모듈"
   ]
  },
  {
   "cell_type": "markdown",
   "id": "36d838b9-d854-41bc-9689-a11fc1bf08de",
   "metadata": {},
   "source": [
    "## 모듈 만들기"
   ]
  },
  {
   "cell_type": "code",
   "execution_count": 5,
   "id": "d78c131b-ed27-4fc8-80de-4fd2ea87bf82",
   "metadata": {},
   "outputs": [],
   "source": [
    "# 모듈 만들기 - mod1.py\n",
    "# def add(a, b):\n",
    "#     return a + b\n",
    "# def sub(a, b):\n",
    "#     return a - b"
   ]
  },
  {
   "cell_type": "code",
   "execution_count": 3,
   "id": "35e1cc61-6d2f-4ff7-a688-cadb46ed9861",
   "metadata": {},
   "outputs": [
    {
     "name": "stdout",
     "output_type": "stream",
     "text": [
      "33\n",
      "-11\n"
     ]
    }
   ],
   "source": [
    "import mod1 # .py는 생략해야함\n",
    "print(mod1.add(11,22))\n",
    "print(mod1.sub(11,22))"
   ]
  },
  {
   "cell_type": "code",
   "execution_count": 4,
   "id": "045117ab-88e4-43b6-ba7c-1954052bbde6",
   "metadata": {},
   "outputs": [],
   "source": [
    "with open('mod2.py','w') as f:\n",
    "    data = '''def mul(a,b):\n",
    "    return a*b\n",
    "def div(a,b):\n",
    "    return a/b'''\n",
    "    f.write(data)"
   ]
  },
  {
   "cell_type": "code",
   "execution_count": 6,
   "id": "51c718bc-af20-4548-8e9e-9283b6a266c3",
   "metadata": {},
   "outputs": [
    {
     "name": "stdout",
     "output_type": "stream",
     "text": [
      "12\n",
      "0.75\n"
     ]
    }
   ],
   "source": [
    "import mod2\n",
    "print(mod2.mul(3,4))\n",
    "print(mod2.div(3,4))"
   ]
  },
  {
   "cell_type": "code",
   "execution_count": 1,
   "id": "2483e366-ca09-4dfb-8025-d80b181fef5e",
   "metadata": {},
   "outputs": [
    {
     "name": "stdout",
     "output_type": "stream",
     "text": [
      "33\n",
      "-11\n",
      "12\n",
      "0.75\n"
     ]
    }
   ],
   "source": [
    "import mod1, mod2\n",
    "print(mod1.add(11,22))\n",
    "print(mod1.sub(11,22))\n",
    "print(mod2.mul(3,4))\n",
    "print(mod2.div(3,4))"
   ]
  },
  {
   "cell_type": "code",
   "execution_count": 2,
   "id": "88d83e88-eb06-446b-aa9c-6ec586de95ef",
   "metadata": {},
   "outputs": [
    {
     "name": "stdout",
     "output_type": "stream",
     "text": [
      "33\n",
      "-11\n",
      "12\n",
      "0.75\n"
     ]
    }
   ],
   "source": [
    "import mod1 as m1\n",
    "import mod2 as m2\n",
    "print(m1.add(11,22))\n",
    "print(m1.sub(11,22))\n",
    "print(m2.mul(3,4))\n",
    "print(m2.div(3,4))"
   ]
  },
  {
   "cell_type": "code",
   "execution_count": 1,
   "id": "9fe31db7-197f-4177-bce0-b09f93e3f6ea",
   "metadata": {},
   "outputs": [
    {
     "name": "stdout",
     "output_type": "stream",
     "text": [
      "33\n",
      "-11\n",
      "12\n",
      "0.75\n"
     ]
    }
   ],
   "source": [
    "import mod1 as m1, mod2 as m2\n",
    "print(m1.add(11,22))\n",
    "print(m1.sub(11,22))\n",
    "print(m2.mul(3,4))\n",
    "print(m2.div(3,4))"
   ]
  },
  {
   "cell_type": "code",
   "execution_count": 3,
   "id": "0ddb41a7-619a-4759-aff4-e149f7049202",
   "metadata": {},
   "outputs": [
    {
     "name": "stdout",
     "output_type": "stream",
     "text": [
      "77\n"
     ]
    }
   ],
   "source": [
    "from mod1 import add, sub\n",
    "print(add(33,44))"
   ]
  },
  {
   "cell_type": "code",
   "execution_count": 4,
   "id": "15cbbd42-2c67-4afe-9dc2-50a2fe501cdd",
   "metadata": {},
   "outputs": [
    {
     "name": "stdout",
     "output_type": "stream",
     "text": [
      "15\n"
     ]
    }
   ],
   "source": [
    "from mod2 import *\n",
    "print(mul(3,5))"
   ]
  },
  {
   "cell_type": "markdown",
   "id": "2247de39-3eab-45af-b972-1ba7f380e9d3",
   "metadata": {},
   "source": [
    "## `__main__`의 의미"
   ]
  },
  {
   "cell_type": "markdown",
   "id": "011042e5-a3fe-4ed1-8658-f2e237677952",
   "metadata": {},
   "source": [
    "매직커맨드\n",
    "-%%bash: 리눅스\n",
    "-%%cmd: 윈도우"
   ]
  },
  {
   "cell_type": "code",
   "execution_count": 6,
   "id": "e2be89a5-d420-431c-9a45-9752666999c6",
   "metadata": {},
   "outputs": [],
   "source": [
    "with open('mod1.py','a') as f:\n",
    "    text = '''\\nprint(add(1,4))\\nprint(sub(4,2))'''\n",
    "    f.write(text)"
   ]
  },
  {
   "cell_type": "code",
   "execution_count": 1,
   "id": "c3c9ead4-cf77-45b2-aedd-219aa58a795d",
   "metadata": {},
   "outputs": [
    {
     "name": "stdout",
     "output_type": "stream",
     "text": [
      "Microsoft Windows [Version 10.0.26100.2894]\n",
      "(c) Microsoft Corporation. All rights reserved.\n",
      "\n",
      "mj\\python>python mod1.py\n",
      "5\n",
      "2\n",
      "__main__\n",
      "�� ���Ϸ� ����Ǿ����\n",
      "\n",
      "d:\\pmj\\python>"
     ]
    }
   ],
   "source": [
    "%%cmd\n",
    "python mod1.py"
   ]
  },
  {
   "cell_type": "code",
   "execution_count": 2,
   "id": "60f822a4-d4ef-4e5f-9189-67011fe8681b",
   "metadata": {},
   "outputs": [
    {
     "name": "stdout",
     "output_type": "stream",
     "text": [
      "5\n",
      "2\n",
      "mod1\n",
      "전 모듈로 임포트 되었어요\n"
     ]
    },
    {
     "data": {
      "text/plain": [
       "['__builtins__',\n",
       " '__cached__',\n",
       " '__doc__',\n",
       " '__file__',\n",
       " '__loader__',\n",
       " '__name__',\n",
       " '__package__',\n",
       " '__spec__',\n",
       " 'add',\n",
       " 'sub']"
      ]
     },
     "execution_count": 2,
     "metadata": {},
     "output_type": "execute_result"
    }
   ],
   "source": [
    "import mod1\n",
    "dir(mod1)"
   ]
  },
  {
   "cell_type": "code",
   "execution_count": 5,
   "id": "4d47b9ab-df25-4872-ac18-8248f0a311b6",
   "metadata": {},
   "outputs": [
    {
     "name": "stdout",
     "output_type": "stream",
     "text": [
      "['__builtins__', '__cached__', '__doc__', '__file__', '__loader__', '__name__', '__package__', '__spec__', 'add', 'sub']\n",
      "mod1\n"
     ]
    }
   ],
   "source": [
    "import mod1\n",
    "print(dir(mod1))\n",
    "print(mod1.__name__)"
   ]
  },
  {
   "cell_type": "code",
   "execution_count": 1,
   "id": "7007e996-b811-42c9-856c-2e411aed3f56",
   "metadata": {},
   "outputs": [],
   "source": [
    "with open('mod1.py','a') as f:\n",
    "    content = '\\nprint(__name__)'\n",
    "    f.write(content)"
   ]
  },
  {
   "cell_type": "markdown",
   "id": "1e19db21-f3ab-40eb-91ce-7be160b05eec",
   "metadata": {},
   "source": [
    "삼성전자의 현 시세\n",
    "cmd에서 파일로 실행했을 때\n",
    "삼성전자의 시세가 나오고\n",
    "임포트 했을땐\n",
    "아무것도 나오지 않게 하라"
   ]
  },
  {
   "cell_type": "code",
   "execution_count": 3,
   "id": "551b88d5-584c-455c-bf70-52b9342fc487",
   "metadata": {},
   "outputs": [],
   "source": [
    "# with open('pysam.py','w',encoding='utf-8') as f:\n",
    "#     data = \"\"\"import requests as req\n",
    "# url = 'https://finance.naver.com/sise/sise_market_sum.naver'\n",
    "# web = req.get(url)\n",
    "# html = web.text\n",
    "# f1 = html.find('삼성전자')\n",
    "# print(html[f1:f1 + 100].find('<td class=\"number\">'))\n",
    "# print('삼성전자: ' + html[f1:f1 + 100][19:50].replace('<td class=\"number\">','').replace('</td>','')+'원')\"\"\"\n",
    "#     f.write(data)"
   ]
  },
  {
   "cell_type": "code",
   "execution_count": 4,
   "id": "6a60cc97-b189-4d84-8783-f0714174b4fa",
   "metadata": {},
   "outputs": [],
   "source": [
    "# %%cmd\n",
    "# python pysam.py"
   ]
  },
  {
   "cell_type": "code",
   "execution_count": 11,
   "id": "33185d72-d95c-41c5-9075-9c4ea1620031",
   "metadata": {},
   "outputs": [],
   "source": [
    "# import pysam\n",
    "# pysam.sam('카카오')"
   ]
  },
  {
   "cell_type": "code",
   "execution_count": 6,
   "id": "7bbadb7a-eba6-4450-8e99-806213ccc895",
   "metadata": {},
   "outputs": [],
   "source": [
    "# with open('pysam.py','a') as f:\n",
    "#     content = '\\nprint(__name__)'\n",
    "#     f.write(content)"
   ]
  },
  {
   "cell_type": "markdown",
   "id": "ce3247d5-3fdc-460f-859c-1f191c00fb48",
   "metadata": {},
   "source": [
    "## 클래스나 변수 등을 포함한 모듈"
   ]
  },
  {
   "cell_type": "code",
   "execution_count": 3,
   "id": "faf2a224-b923-4db3-a267-7d6e07ab3c01",
   "metadata": {},
   "outputs": [],
   "source": [
    "with open('mod3.py','w') as f:\n",
    "    text = '''PI = 3.141592\\n\\nclass Math:\\n\\tdef solv(self,r):\\n\\t\\treturn PI * (r**2)\\n\\ndef add(a,b):\\n\\treturn a+b'''\n",
    "    f.write(text)\n",
    "    "
   ]
  },
  {
   "cell_type": "markdown",
   "id": "4ab49fdc-858a-4f94-a2b3-5dc570fbca1a",
   "metadata": {},
   "source": [
    "-CMD에서 set PYTHONPATH=D:\\pmj\\python\\mymod\n",
    "-PS에서 $env:PYTHONPATH=\"D:\\pmj\\python\\mymod\""
   ]
  },
  {
   "cell_type": "code",
   "execution_count": 4,
   "id": "0138a6b8-261c-4ccc-9af9-28c0e05f63ca",
   "metadata": {},
   "outputs": [
    {
     "name": "stdout",
     "output_type": "stream",
     "text": [
      "3.141592\n",
      "314.1592\n",
      "7.5415920000000005\n"
     ]
    }
   ],
   "source": [
    "import mod3\n",
    "# 변수\n",
    "print(mod3.PI)\n",
    "\n",
    "# 클래스\n",
    "a = mod3.Math()\n",
    "print(a.solv(10))\n",
    "\n",
    "# 함수\n",
    "print(mod3.add(mod3.PI,4.4))"
   ]
  },
  {
   "cell_type": "markdown",
   "id": "0cb3e8be-1acd-4fcd-bde5-e2c611ee54d0",
   "metadata": {},
   "source": [
    "## 다른 디렉터리에서 모듈 불러오기"
   ]
  },
  {
   "cell_type": "code",
   "execution_count": 1,
   "id": "4ce1d0b4-2763-4095-8a7e-3230fe7c4113",
   "metadata": {},
   "outputs": [
    {
     "data": {
      "text/plain": [
       "['C:\\\\Users\\\\Admin\\\\AppData\\\\Local\\\\Programs\\\\Python\\\\Python313\\\\python313.zip',\n",
       " 'C:\\\\Users\\\\Admin\\\\AppData\\\\Local\\\\Programs\\\\Python\\\\Python313\\\\DLLs',\n",
       " 'C:\\\\Users\\\\Admin\\\\AppData\\\\Local\\\\Programs\\\\Python\\\\Python313\\\\Lib',\n",
       " 'C:\\\\Users\\\\Admin\\\\AppData\\\\Local\\\\Programs\\\\Python\\\\Python313',\n",
       " '',\n",
       " 'C:\\\\Users\\\\Admin\\\\AppData\\\\Local\\\\Programs\\\\Python\\\\Python313\\\\Lib\\\\site-packages',\n",
       " 'C:\\\\Users\\\\Admin\\\\AppData\\\\Local\\\\Programs\\\\Python\\\\Python313\\\\Lib\\\\site-packages\\\\win32',\n",
       " 'C:\\\\Users\\\\Admin\\\\AppData\\\\Local\\\\Programs\\\\Python\\\\Python313\\\\Lib\\\\site-packages\\\\win32\\\\lib',\n",
       " 'C:\\\\Users\\\\Admin\\\\AppData\\\\Local\\\\Programs\\\\Python\\\\Python313\\\\Lib\\\\site-packages\\\\Pythonwin']"
      ]
     },
     "execution_count": 1,
     "metadata": {},
     "output_type": "execute_result"
    }
   ],
   "source": [
    "import sys\n",
    "sys.path"
   ]
  },
  {
   "cell_type": "code",
   "execution_count": 3,
   "id": "2b5a8a50-2c5c-4594-82ef-f6cd401751aa",
   "metadata": {},
   "outputs": [
    {
     "data": {
      "text/plain": [
       "['C:\\\\Users\\\\Admin\\\\AppData\\\\Local\\\\Programs\\\\Python\\\\Python313\\\\python313.zip',\n",
       " 'C:\\\\Users\\\\Admin\\\\AppData\\\\Local\\\\Programs\\\\Python\\\\Python313\\\\DLLs',\n",
       " 'C:\\\\Users\\\\Admin\\\\AppData\\\\Local\\\\Programs\\\\Python\\\\Python313\\\\Lib',\n",
       " 'C:\\\\Users\\\\Admin\\\\AppData\\\\Local\\\\Programs\\\\Python\\\\Python313',\n",
       " '',\n",
       " 'C:\\\\Users\\\\Admin\\\\AppData\\\\Local\\\\Programs\\\\Python\\\\Python313\\\\Lib\\\\site-packages',\n",
       " 'C:\\\\Users\\\\Admin\\\\AppData\\\\Local\\\\Programs\\\\Python\\\\Python313\\\\Lib\\\\site-packages\\\\win32',\n",
       " 'C:\\\\Users\\\\Admin\\\\AppData\\\\Local\\\\Programs\\\\Python\\\\Python313\\\\Lib\\\\site-packages\\\\win32\\\\lib',\n",
       " 'C:\\\\Users\\\\Admin\\\\AppData\\\\Local\\\\Programs\\\\Python\\\\Python313\\\\Lib\\\\site-packages\\\\Pythonwin',\n",
       " 'D:\\\\pmj\\\\python\\\\mymod',\n",
       " 'D:\\\\pmj\\\\python\\\\mymod']"
      ]
     },
     "execution_count": 3,
     "metadata": {},
     "output_type": "execute_result"
    }
   ],
   "source": [
    "sys.path.append('D:\\\\pmj\\\\python\\\\mymod') # 초기화하면 사라짐\n",
    "sys.path"
   ]
  },
  {
   "cell_type": "code",
   "execution_count": 7,
   "id": "c1afc55b-bba6-4f04-91f5-ddd089f211b0",
   "metadata": {},
   "outputs": [],
   "source": [
    "# !python.exe -m pip install --upgrade pip\n",
    "# !pip install python-dotenv"
   ]
  },
  {
   "cell_type": "code",
   "execution_count": 8,
   "id": "f6293ddd-0d4c-480e-ab87-24554d4cf613",
   "metadata": {},
   "outputs": [
    {
     "name": "stdout",
     "output_type": "stream",
     "text": [
      "None\n",
      "None\n"
     ]
    }
   ],
   "source": [
    "from dotenv import load_dotenv\n",
    "import os\n",
    "\n",
    "#.env 파일 로드\n",
    "load_dotenv()\n",
    "\n",
    "SKEY = os.getenv('SECRET_KEY')\n",
    "print(SKEY)\n",
    "DBUG = os.getenv('DEBUG')\n",
    "print(DBUG)"
   ]
  },
  {
   "cell_type": "code",
   "execution_count": null,
   "id": "9e2d19fc-6b99-40a3-8e63-298089be09ce",
   "metadata": {},
   "outputs": [],
   "source": []
  }
 ],
 "metadata": {
  "kernelspec": {
   "display_name": "Python 3 (ipykernel)",
   "language": "python",
   "name": "python3"
  },
  "language_info": {
   "codemirror_mode": {
    "name": "ipython",
    "version": 3
   },
   "file_extension": ".py",
   "mimetype": "text/x-python",
   "name": "python",
   "nbconvert_exporter": "python",
   "pygments_lexer": "ipython3",
   "version": "3.13.1"
  }
 },
 "nbformat": 4,
 "nbformat_minor": 5
}
