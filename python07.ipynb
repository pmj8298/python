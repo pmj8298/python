{
 "cells": [
  {
   "cell_type": "markdown",
   "id": "283c8c5a-0fa6-431c-82a1-832b1e7f06e0",
   "metadata": {},
   "source": [
    "# 내장함수"
   ]
  },
  {
   "cell_type": "code",
   "execution_count": 3,
   "id": "a4b9d004-2775-4dd0-bd79-7bedb9f3bf2b",
   "metadata": {},
   "outputs": [
    {
     "name": "stdout",
     "output_type": "stream",
     "text": [
      "3\n",
      "1.2\n"
     ]
    }
   ],
   "source": [
    "# abs * -> 절댓값 리턴\n",
    "print(abs(-3))\n",
    "print(abs(-1.2))"
   ]
  },
  {
   "cell_type": "code",
   "execution_count": 12,
   "id": "5beadbec-c4ca-4510-bc22-dd3a99f2c1fb",
   "metadata": {},
   "outputs": [
    {
     "name": "stdout",
     "output_type": "stream",
     "text": [
      "True\n",
      "False\n",
      "True\n"
     ]
    }
   ],
   "source": [
    "# all *\n",
    "print(all([1,2,3]))\n",
    "\n",
    "print(all([11,22,0,33,44]))\n",
    "# 0이 들어가서 False 뜸\n",
    "\n",
    "print(all([]))\n",
    "# all의 입력 인수가 빈 값인 경우에는 True를 리턴한다. 특이사항"
   ]
  },
  {
   "cell_type": "code",
   "execution_count": 18,
   "id": "46fb8529-4471-45e7-b8be-b131da19e20e",
   "metadata": {},
   "outputs": [
    {
     "name": "stdout",
     "output_type": "stream",
     "text": [
      "True\n",
      "False\n",
      "False\n"
     ]
    }
   ],
   "source": [
    "# any *\n",
    "# any(x)는 반복 가능한 데이터 x를 입력으로 받아 x의 요소 중 하나라도 참이 있으면 True를 리턴하고 x가 모두 거짓일 때만 False를 리턴한다. 즉, all(x)의 반대로 작동한다.\n",
    "print(any([1,2,3,0]))\n",
    "\n",
    "print(any([0,'',[],False]))\n",
    "\n",
    "print(any([]))"
   ]
  },
  {
   "cell_type": "code",
   "execution_count": 24,
   "id": "21ba5e26-3968-46d1-89cd-dc780eb0378e",
   "metadata": {},
   "outputs": [
    {
     "name": "stdout",
     "output_type": "stream",
     "text": [
      "A\n",
      "가\n",
      "44032\n",
      "65\n"
     ]
    }
   ],
   "source": [
    "#아스키코드\n",
    "print(chr(65))\n",
    "print(chr(44032))\n",
    "\n",
    "print(ord('가'))\n",
    "print(ord('A'))"
   ]
  },
  {
   "cell_type": "code",
   "execution_count": 35,
   "id": "a97d46d0-fc68-4d7a-96c4-1f0645351b88",
   "metadata": {},
   "outputs": [
    {
     "name": "stdout",
     "output_type": "stream",
     "text": [
      "A B C D E F G H I J K L M N O P Q R S T U V W X Y Z "
     ]
    }
   ],
   "source": [
    "for x in range(65,91):\n",
    "    print(chr(x), end=' ')"
   ]
  },
  {
   "cell_type": "code",
   "execution_count": 51,
   "id": "d722430c-5a31-421e-ab62-455ece148c0c",
   "metadata": {},
   "outputs": [
    {
     "name": "stdout",
     "output_type": "stream",
     "text": [
      "z y x w v u t s r q p o n m l k j i h g f e d c b a "
     ]
    }
   ],
   "source": [
    "# for i in range(97,123):\n",
    "#     print(chr(i), end=' ')\n",
    "for i in range(122,96,-1):\n",
    "    print(chr(i), end=' ')"
   ]
  },
  {
   "cell_type": "code",
   "execution_count": 71,
   "id": "079f95aa-5a5c-424a-b31c-082177bd38ea",
   "metadata": {},
   "outputs": [
    {
     "name": "stdout",
     "output_type": "stream",
     "text": [
      "A1, A2, A3, A4, A5, A6, A7, A8, A9, A10, B1, B2, B3, B4, B5, B6, B7, B8, B9, B10, C1, C2, C3, C4, C5, C6, C7, C8, C9, C10, "
     ]
    }
   ],
   "source": [
    "for a in range(1,11):\n",
    "    print(chr(65)+f'{a},',end=' ')\n",
    "for b in range(1,11):\n",
    "    print(chr(66)+f'{b},',end=' ')\n",
    "for c in range(1,11):\n",
    "    print(chr(67)+f'{c},',end=' ')"
   ]
  },
  {
   "cell_type": "code",
   "execution_count": 10,
   "id": "6582b1bc-aedf-41c1-a655-dc690f7bd38b",
   "metadata": {},
   "outputs": [],
   "source": [
    "class Example:\n",
    "    def __init__(self):\n",
    "        # self.result = 0\n",
    "        pass\n",
    "    def ex1(self):\n",
    "        for x in range(65, 91):\n",
    "            print(chr(x), end=' ')\n",
    "        # retuen self.result"
   ]
  },
  {
   "cell_type": "code",
   "execution_count": 11,
   "id": "d8d50835-4f0f-4559-8219-a8975d20037e",
   "metadata": {},
   "outputs": [
    {
     "name": "stdout",
     "output_type": "stream",
     "text": [
      "A B C D E F G H I J K L M N O P Q R S T U V W X Y Z "
     ]
    }
   ],
   "source": [
    "example = Example()\n",
    "example.ex1()"
   ]
  },
  {
   "cell_type": "code",
   "execution_count": 22,
   "id": "4c6bcdd3-d0a1-457f-a980-f80a9560cfad",
   "metadata": {},
   "outputs": [
    {
     "name": "stdout",
     "output_type": "stream",
     "text": [
      "A B C D E F G H I J K L M N O P Q R S T U V W X Y Z \n",
      "\n",
      "z y x w v u t s r q p o n m l k j i h g f e d c b a \n",
      "\n",
      "A1 A2 A3 A4 A5 A6 A7 A8 A9 A10 \n",
      "\n",
      "B1 B2 B3 B4 B5 B6 B7 B8 B9 B10 \n",
      "\n",
      "C1 C2 C3 C4 C5 C6 C7 C8 C9 C10 \n",
      "\n"
     ]
    }
   ],
   "source": [
    "class Example:\n",
    "    def __init__(self):\n",
    "        self.result = 0\n",
    "\n",
    "    def ex1(self):\n",
    "        for x in range(65, 91):\n",
    "            print(chr(x), end=' ')\n",
    "\n",
    "    def ex2(self):\n",
    "    \tfor x in range(122,96,-1):\n",
    "    \t\tprint(chr(x), end=\" \")\n",
    "\n",
    "        # retuen self.result\n",
    "\n",
    "    def ex3(self):\n",
    "        for k in range(65,68):\n",
    "            for l in range(1,11):\n",
    "                print(f\"{chr(k)}{l} \",end='')\n",
    "            print(\"\\n\")\n",
    "\n",
    "ex = Example()\n",
    "ex.ex1()  # 예제1\n",
    "print('\\n')\n",
    "ex.ex2()  # 예제2\n",
    "print('\\n')\n",
    "ex.ex3()  # 예제3"
   ]
  },
  {
   "cell_type": "code",
   "execution_count": null,
   "id": "a389a7c9-35bf-4362-8d4b-6edb966c6164",
   "metadata": {},
   "outputs": [],
   "source": []
  }
 ],
 "metadata": {
  "kernelspec": {
   "display_name": "Python 3 (ipykernel)",
   "language": "python",
   "name": "python3"
  },
  "language_info": {
   "codemirror_mode": {
    "name": "ipython",
    "version": 3
   },
   "file_extension": ".py",
   "mimetype": "text/x-python",
   "name": "python",
   "nbconvert_exporter": "python",
   "pygments_lexer": "ipython3",
   "version": "3.13.1"
  }
 },
 "nbformat": 4,
 "nbformat_minor": 5
}
