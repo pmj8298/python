{
  "nbformat": 4,
  "nbformat_minor": 0,
  "metadata": {
    "colab": {
      "provenance": []
    },
    "kernelspec": {
      "name": "python3",
      "display_name": "Python 3"
    },
    "language_info": {
      "name": "python"
    }
  },
  "cells": [
    {
      "cell_type": "code",
      "execution_count": 6,
      "metadata": {
        "id": "RfMu_jvwfVTU"
      },
      "outputs": [],
      "source": [
        "# with open('./drive/MyDrive/ReadMe.md','w') as f:\n",
        "#   data = f.write('반가워요')\n",
        "#   print('저장되었습니다.')\n",
        "# !pwd"
      ]
    },
    {
      "cell_type": "markdown",
      "source": [
        "# 넘파이(numpy)"
      ],
      "metadata": {
        "id": "o1j5RJtOio26"
      }
    },
    {
      "cell_type": "markdown",
      "source": [
        "- ndim  : 축의 개수\n",
        "- shape : 배열의 차원 정보\n",
        "- size  : 배열 안에 있는 원소의 총 개수\n",
        "- dtype : 배열 원소의 자료형\n"
      ],
      "metadata": {
        "id": "-7JR4qm_jZmT"
      }
    },
    {
      "cell_type": "markdown",
      "source": [
        "## 1차원과 속성들"
      ],
      "metadata": {
        "id": "E8zJAR_OuNmc"
      }
    },
    {
      "cell_type": "code",
      "source": [
        "# pip install numpy\n",
        "import numpy as np\n",
        "narry = np.array(range(5))\n",
        "print(narry, type(narry))\n",
        "# numpy의 배열은 ,가 없다\n",
        "print(narry.ndim)\n",
        "print(narry.shape)\n",
        "print(narry.size)\n",
        "print(narry[3])\n",
        "print(narry[2:4])\n",
        "print(narry.dtype)"
      ],
      "metadata": {
        "colab": {
          "base_uri": "https://localhost:8080/"
        },
        "id": "mCQESN73h-7r",
        "outputId": "55dd9dd7-775d-4bd3-9093-1a68da82324c"
      },
      "execution_count": 17,
      "outputs": [
        {
          "output_type": "stream",
          "name": "stdout",
          "text": [
            "[0 1 2 3 4] <class 'numpy.ndarray'>\n",
            "1\n",
            "(5,)\n",
            "5\n",
            "3\n",
            "[2 3]\n",
            "int64\n"
          ]
        }
      ]
    },
    {
      "cell_type": "code",
      "source": [
        "narr1 = np.array([1,2,3,4])\n",
        "narr2 = np.array([1,2,'a','b'])\n",
        "narr3 = np.array([1,2,3,4],dtype='str')\n",
        "print(narr1,narr1.dtype)\n",
        "print(narr2,narr2.dtype)\n",
        "print(narr3,narr3.dtype)"
      ],
      "metadata": {
        "colab": {
          "base_uri": "https://localhost:8080/"
        },
        "id": "ntncA1bii72s",
        "outputId": "8f829c81-fc51-459a-fe76-5f312d660c79"
      },
      "execution_count": 24,
      "outputs": [
        {
          "output_type": "stream",
          "name": "stdout",
          "text": [
            "[1 2 3 4] int64\n",
            "['1' '2' 'a' 'b'] <U21\n",
            "['1' '2' '3' '4'] <U1\n"
          ]
        }
      ]
    },
    {
      "cell_type": "code",
      "source": [
        "narr4 = np.zeros(5)\n",
        "# ,가 아님에 주의!\n",
        "# 배열을 초기화 할 때 많이 씀\n",
        "narr5 = np.zeros(5, dtype='int64')\n",
        "narr6 = np.zeros((2,2), dtype='int64')\n",
        "narr7 = np.full((3,3),3)\n",
        "narr8 = np.ones((2,2))\n",
        "narr9 = np.full((3,3),'num')\n",
        "narr10 = np.eye(3)\n",
        "narr11 = np. linspace(0,100,5, endpoint=False, dtype='int64')\n",
        "narr12 = np.arange(0,100,20)\n",
        "print('narr4:', narr4,narr4.ndim, narr4.dtype, narr4.shape, narr4.size,type(narr4))\n",
        "print('narr5:', narr5,narr5.ndim, narr5.dtype, narr5.shape, narr5.size,type(narr5))\n",
        "print('narr6:', narr6,narr6.ndim, narr6.dtype, narr6.shape, narr6.size,type(narr6))\n",
        "print('narr7:', narr7,narr7.ndim, narr7.dtype, narr7.shape, narr7.size,type(narr7))\n",
        "print('narr8:', narr8,narr8.ndim, narr8.dtype, narr8.shape, narr8.size,type(narr8))\n",
        "print('narr9:', narr9,narr9.ndim, narr9.dtype, narr9.shape, narr9.size,type(narr9))\n",
        "print('narr10:', narr10,narr10.ndim, narr10.dtype, narr10.shape, narr10.size,type(narr10))\n",
        "print('narr11:', narr11,narr11.ndim, narr11.dtype, narr11.shape, narr11.size,type(narr11))\n",
        "print('narr12:', narr12,narr12.ndim, narr12.dtype, narr12.shape, narr12.size,type(narr12))"
      ],
      "metadata": {
        "colab": {
          "base_uri": "https://localhost:8080/"
        },
        "id": "PdQjWU81p1GB",
        "outputId": "3e1de0e1-d33b-45cb-a4ff-eed0c00ecfb2"
      },
      "execution_count": 76,
      "outputs": [
        {
          "output_type": "stream",
          "name": "stdout",
          "text": [
            "narr4: [0. 0. 0. 0. 0.] 1 float64 (5,) 5 <class 'numpy.ndarray'>\n",
            "narr5: [0 0 0 0 0] 1 int64 (5,) 5 <class 'numpy.ndarray'>\n",
            "narr6: [[0 0]\n",
            " [0 0]] 2 int64 (2, 2) 4 <class 'numpy.ndarray'>\n",
            "narr7: [[3 3 3]\n",
            " [3 3 3]\n",
            " [3 3 3]] 2 int64 (3, 3) 9 <class 'numpy.ndarray'>\n",
            "narr8: [[1. 1.]\n",
            " [1. 1.]] 2 float64 (2, 2) 4 <class 'numpy.ndarray'>\n",
            "narr9: [['num' 'num' 'num']\n",
            " ['num' 'num' 'num']\n",
            " ['num' 'num' 'num']] 2 <U3 (3, 3) 9 <class 'numpy.ndarray'>\n",
            "narr10: [[1. 0. 0.]\n",
            " [0. 1. 0.]\n",
            " [0. 0. 1.]] 2 float64 (3, 3) 9 <class 'numpy.ndarray'>\n",
            "narr11: [ 0 20 40 60 80] 1 int64 (5,) 5 <class 'numpy.ndarray'>\n",
            "narr12: [ 0 20 40 60 80] 1 int64 (5,) 5 <class 'numpy.ndarray'>\n"
          ]
        }
      ]
    },
    {
      "cell_type": "markdown",
      "source": [
        "## 2차원 배열"
      ],
      "metadata": {
        "id": "LtDy09iPuRy8"
      }
    },
    {
      "cell_type": "code",
      "source": [
        "print(list(range(2,10)))\n",
        "print(np.arange(2,10))\n",
        "range(10)\n",
        "np.arange(10)"
      ],
      "metadata": {
        "colab": {
          "base_uri": "https://localhost:8080/"
        },
        "id": "tYfEOQbHvhir",
        "outputId": "5f65c601-e007-43fd-85a4-628c4b4498c4"
      },
      "execution_count": 49,
      "outputs": [
        {
          "output_type": "stream",
          "name": "stdout",
          "text": [
            "[2, 3, 4, 5, 6, 7, 8, 9]\n",
            "[2 3 4 5 6 7 8 9]\n"
          ]
        },
        {
          "output_type": "execute_result",
          "data": {
            "text/plain": [
              "array([0, 1, 2, 3, 4, 5, 6, 7, 8, 9])"
            ]
          },
          "metadata": {},
          "execution_count": 49
        }
      ]
    },
    {
      "cell_type": "code",
      "source": [
        "arr1 = np.array([0,0,0])\n",
        "arr2 = np.array([[0,0],[0,0]])\n",
        "print(arr1)\n",
        "print(arr2, arr2.ndim, arr2.dtype, arr2.shape, arr2.size, type(arr2))"
      ],
      "metadata": {
        "colab": {
          "base_uri": "https://localhost:8080/"
        },
        "id": "tHqRF_D-lVvN",
        "outputId": "b831d4d8-8c8d-4387-f111-23ea433e9d71"
      },
      "execution_count": 38,
      "outputs": [
        {
          "output_type": "stream",
          "name": "stdout",
          "text": [
            "[0 0 0]\n",
            "[[0 0]\n",
            " [0 0]] 2 int64 (2, 2) 4 <class 'numpy.ndarray'>\n"
          ]
        }
      ]
    },
    {
      "cell_type": "code",
      "source": [
        "arr3 = np.array([1,2,3,4,5,6,7,8,9]).reshape(3,3)\n",
        "arr4 = np.arange(1,10).reshape(3,3)\n",
        "arr5 = np.arange(1,11).reshape(2,5)\n",
        "arr6 = np.arange(1,11).reshape(5,2)\n",
        "arr7 = np.arange(1,28).reshape(3,3,3)\n",
        "print('arr3:','차원:', arr3.ndim, '데이터타입:', arr3.dtype, '형태:',arr3.shape, '크기:',arr3.size, type(arr3), arr3)\n",
        "print('arr4:','차원:', arr4.ndim, '데이터타입:', arr4.dtype, '형태:',arr4.shape, '크기:',arr4.size, type(arr4), arr4)\n",
        "print('arr5:','차원:', arr5.ndim, '데이터타입:', arr5.dtype, '형태:',arr5.shape, '크기:',arr5.size, type(arr5), arr5)\n",
        "print('arr6:','차원:', arr6.ndim, '데이터타입:', arr6.dtype, '형태:',arr6.shape, '크기:',arr6.size, type(arr6), arr6)\n",
        "print('arr7:','차원:', arr7.ndim, '데이터타입:', arr7.dtype, '형태:',arr7.shape, '크기:',arr7.size, type(arr7), arr7)"
      ],
      "metadata": {
        "colab": {
          "base_uri": "https://localhost:8080/"
        },
        "id": "-Oscf4-Spnd9",
        "outputId": "a35ac4ec-29c7-4112-b718-da391c19fb27"
      },
      "execution_count": 56,
      "outputs": [
        {
          "output_type": "stream",
          "name": "stdout",
          "text": [
            "arr3: 차원: 2 데이터타입: int64 형태: (3, 3) 크기: 9 <class 'numpy.ndarray'> [[1 2 3]\n",
            " [4 5 6]\n",
            " [7 8 9]]\n",
            "arr4: 차원: 2 데이터타입: int64 형태: (3, 3) 크기: 9 <class 'numpy.ndarray'> [[1 2 3]\n",
            " [4 5 6]\n",
            " [7 8 9]]\n",
            "arr5: 차원: 2 데이터타입: int64 형태: (2, 5) 크기: 10 <class 'numpy.ndarray'> [[ 1  2  3  4  5]\n",
            " [ 6  7  8  9 10]]\n",
            "arr6: 차원: 2 데이터타입: int64 형태: (5, 2) 크기: 10 <class 'numpy.ndarray'> [[ 1  2]\n",
            " [ 3  4]\n",
            " [ 5  6]\n",
            " [ 7  8]\n",
            " [ 9 10]]\n",
            "arr7: 차원: 3 데이터타입: int64 형태: (3, 3, 3) 크기: 27 <class 'numpy.ndarray'> [[[ 1  2  3]\n",
            "  [ 4  5  6]\n",
            "  [ 7  8  9]]\n",
            "\n",
            " [[10 11 12]\n",
            "  [13 14 15]\n",
            "  [16 17 18]]\n",
            "\n",
            " [[19 20 21]\n",
            "  [22 23 24]\n",
            "  [25 26 27]]]\n"
          ]
        }
      ]
    },
    {
      "cell_type": "code",
      "source": [
        "a1 = np.arange(1,22).reshape(3,7)\n",
        "print(a1)\n",
        "print('-'*20)\n",
        "a2 = np.arange(1,8).reshape(7,1)\n",
        "print(a2)\n",
        "print('-'*20)\n",
        "a3 = np.arange(1,11).reshape(5,2)\n",
        "print(a3)\n",
        "print('-'*20)\n",
        "a4 = np.arange(1,22).reshape(3,7)\n",
        "print(a4)\n",
        "print('-'*20)\n",
        "a5 = np.arange(1,13).reshape(4,3,1)\n",
        "print(a5)\n",
        "# print('-'*20)"
      ],
      "metadata": {
        "colab": {
          "base_uri": "https://localhost:8080/"
        },
        "id": "_ump7S-rvaHc",
        "outputId": "24c8f1a0-3a61-463e-d8a8-d4a945349b60"
      },
      "execution_count": 72,
      "outputs": [
        {
          "output_type": "stream",
          "name": "stdout",
          "text": [
            "[[ 1  2  3  4  5  6  7]\n",
            " [ 8  9 10 11 12 13 14]\n",
            " [15 16 17 18 19 20 21]]\n",
            "--------------------\n",
            "[[1]\n",
            " [2]\n",
            " [3]\n",
            " [4]\n",
            " [5]\n",
            " [6]\n",
            " [7]]\n",
            "--------------------\n",
            "[[ 1  2]\n",
            " [ 3  4]\n",
            " [ 5  6]\n",
            " [ 7  8]\n",
            " [ 9 10]]\n",
            "--------------------\n",
            "[[ 1  2  3  4  5  6  7]\n",
            " [ 8  9 10 11 12 13 14]\n",
            " [15 16 17 18 19 20 21]]\n",
            "--------------------\n",
            "[[[ 1]\n",
            "  [ 2]\n",
            "  [ 3]]\n",
            "\n",
            " [[ 4]\n",
            "  [ 5]\n",
            "  [ 6]]\n",
            "\n",
            " [[ 7]\n",
            "  [ 8]\n",
            "  [ 9]]\n",
            "\n",
            " [[10]\n",
            "  [11]\n",
            "  [12]]]\n"
          ]
        }
      ]
    },
    {
      "cell_type": "code",
      "source": [
        "a1[1][2:5]"
      ],
      "metadata": {
        "colab": {
          "base_uri": "https://localhost:8080/"
        },
        "id": "nKTGRHXp2s79",
        "outputId": "0309c39a-8ed7-473d-e690-398b0957fce3"
      },
      "execution_count": 81,
      "outputs": [
        {
          "output_type": "execute_result",
          "data": {
            "text/plain": [
              "array([10, 11, 12])"
            ]
          },
          "metadata": {},
          "execution_count": 81
        }
      ]
    },
    {
      "cell_type": "code",
      "source": [
        "a4[0][3:]\n",
        "# a4[1][3:]\n",
        "# a4[2][3:]\n",
        "print('[',a4[0][3:], a4[1][3:], a4[2][3:],']')\n",
        "print(a4[0:3,3:])\n",
        "a4[1:3,4:6]"
      ],
      "metadata": {
        "colab": {
          "base_uri": "https://localhost:8080/"
        },
        "id": "9wGIDGbj-v_u",
        "outputId": "b1d379e7-f698-461d-81cd-8433ac36b02d"
      },
      "execution_count": 110,
      "outputs": [
        {
          "output_type": "stream",
          "name": "stdout",
          "text": [
            "[ [4 5 6 7] [11 12 13 14] [18 19 20 21] ]\n",
            "[[ 4  5  6  7]\n",
            " [11 12 13 14]\n",
            " [18 19 20 21]]\n"
          ]
        },
        {
          "output_type": "execute_result",
          "data": {
            "text/plain": [
              "array([[12, 13],\n",
              "       [19, 20]])"
            ]
          },
          "metadata": {},
          "execution_count": 110
        }
      ]
    },
    {
      "cell_type": "code",
      "source": [
        "a4[a4>12]"
      ],
      "metadata": {
        "colab": {
          "base_uri": "https://localhost:8080/"
        },
        "id": "K5jDGdHa_Lst",
        "outputId": "3b7c315b-0018-4116-c270-8f2f5b34a586"
      },
      "execution_count": 111,
      "outputs": [
        {
          "output_type": "execute_result",
          "data": {
            "text/plain": [
              "array([13, 14, 15, 16, 17, 18, 19, 20, 21])"
            ]
          },
          "metadata": {},
          "execution_count": 111
        }
      ]
    },
    {
      "cell_type": "code",
      "source": [
        "[a4>12]"
      ],
      "metadata": {
        "colab": {
          "base_uri": "https://localhost:8080/"
        },
        "id": "YASVnfxAEuMP",
        "outputId": "b87f8334-e046-47d9-fa41-72e7393f7869"
      },
      "execution_count": 112,
      "outputs": [
        {
          "output_type": "execute_result",
          "data": {
            "text/plain": [
              "[array([[False, False, False, False, False, False, False],\n",
              "        [False, False, False, False, False,  True,  True],\n",
              "        [ True,  True,  True,  True,  True,  True,  True]])]"
            ]
          },
          "metadata": {},
          "execution_count": 112
        }
      ]
    },
    {
      "cell_type": "code",
      "source": [
        "a4 % 2 == 0"
      ],
      "metadata": {
        "colab": {
          "base_uri": "https://localhost:8080/"
        },
        "id": "i4H21RySFFSs",
        "outputId": "63e3c2d8-8dae-4759-dff0-b78b7a51bec8"
      },
      "execution_count": 116,
      "outputs": [
        {
          "output_type": "execute_result",
          "data": {
            "text/plain": [
              "array([[False,  True, False,  True, False,  True, False],\n",
              "       [ True, False,  True, False,  True, False,  True],\n",
              "       [False,  True, False,  True, False,  True, False]])"
            ]
          },
          "metadata": {},
          "execution_count": 116
        }
      ]
    },
    {
      "cell_type": "code",
      "source": [
        "# np 배열 연산 //  shape가 같은 경우 원소별 연산이 가능\n",
        "np1 = np.array([1,2,3,4,5])\n",
        "np2 = np.array([6,7,8,9,10])\n",
        "print('덧셈:', np1 + np2)\n",
        "print('뺄셈:', np1 - np2)\n",
        "print('곱셈:', np1 * np2)\n",
        "print('나눗셈:', np1 / np2)"
      ],
      "metadata": {
        "colab": {
          "base_uri": "https://localhost:8080/"
        },
        "id": "dsRHS4pSFKhf",
        "outputId": "0844f3f1-0d1b-4e9e-d444-2478e8a5ebae"
      },
      "execution_count": 121,
      "outputs": [
        {
          "output_type": "stream",
          "name": "stdout",
          "text": [
            "덧셈: [ 7  9 11 13 15]\n",
            "뺄셈: [-5 -5 -5 -5 -5]\n",
            "곱셈: [ 6 14 24 36 50]\n",
            "나눗셈: [0.16666667 0.28571429 0.375      0.44444444 0.5       ]\n"
          ]
        }
      ]
    },
    {
      "cell_type": "code",
      "source": [
        "# 브로드캐스팅: 전역적으로 다른 크기의 배열을 연산함\n",
        "np3 = np1 + 10\n",
        "print(np3)"
      ],
      "metadata": {
        "colab": {
          "base_uri": "https://localhost:8080/"
        },
        "id": "3HmFD0aDFVHN",
        "outputId": "7d375468-4de6-425a-e763-cc55369c2978"
      },
      "execution_count": 124,
      "outputs": [
        {
          "output_type": "stream",
          "name": "stdout",
          "text": [
            "[11 12 13 14 15]\n"
          ]
        }
      ]
    },
    {
      "cell_type": "code",
      "source": [
        "br1 = np.arange(1,10).reshape(3,3)\n",
        "br2 = np.array([11,22,33]).reshape(1,3)\n",
        "# br2 = np.array([11,22,33]).reshape(3,1)\n",
        "# 스칼라와 연산\n",
        "print('------스칼라와 연산------')\n",
        "print(br1)\n",
        "print(br1+3)\n",
        "print(br1*2)\n",
        "# 1D와 2D의 연산\n",
        "print('------1D와 2D의 연산------')\n",
        "print(br2)\n",
        "print(br1+br2)\n",
        "print(br1*br2)"
      ],
      "metadata": {
        "colab": {
          "base_uri": "https://localhost:8080/"
        },
        "id": "mZIwU2LQG9ZP",
        "outputId": "eea25566-9380-4c2c-fbb3-f75b0f50b272"
      },
      "execution_count": 133,
      "outputs": [
        {
          "output_type": "stream",
          "name": "stdout",
          "text": [
            "------스칼라와 연산------\n",
            "[[1 2 3]\n",
            " [4 5 6]\n",
            " [7 8 9]]\n",
            "[[ 4  5  6]\n",
            " [ 7  8  9]\n",
            " [10 11 12]]\n",
            "[[ 2  4  6]\n",
            " [ 8 10 12]\n",
            " [14 16 18]]\n",
            "------1D와 2D의 연산------\n",
            "[[11 22 33]]\n",
            "[[12 24 36]\n",
            " [15 27 39]\n",
            " [18 30 42]]\n",
            "[[ 11  44  99]\n",
            " [ 44 110 198]\n",
            " [ 77 176 297]]\n"
          ]
        }
      ]
    },
    {
      "cell_type": "code",
      "source": [
        "ff = np.arange(1,10).reshape(3,3)\n",
        "print(ff)\n",
        "print(ff.reshape(1,9))\n",
        "print(ff.flatten())"
      ],
      "metadata": {
        "colab": {
          "base_uri": "https://localhost:8080/"
        },
        "id": "WKLg_C4vHeNv",
        "outputId": "ef375396-4abc-4212-a2c3-2342d9004e45"
      },
      "execution_count": 135,
      "outputs": [
        {
          "output_type": "stream",
          "name": "stdout",
          "text": [
            "[[1 2 3]\n",
            " [4 5 6]\n",
            " [7 8 9]]\n",
            "[[1 2 3 4 5 6 7 8 9]]\n",
            "[1 2 3 4 5 6 7 8 9]\n"
          ]
        }
      ]
    },
    {
      "cell_type": "code",
      "source": [],
      "metadata": {
        "id": "0okm58lVJ5Yv"
      },
      "execution_count": null,
      "outputs": []
    }
  ]
}