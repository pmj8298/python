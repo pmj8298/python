{
 "cells": [
  {
   "cell_type": "markdown",
   "id": "10319ea6-04e5-4848-9e00-6b106f9b7138",
   "metadata": {},
   "source": [
    "# 외부 라이브러리"
   ]
  },
  {
   "cell_type": "markdown",
   "id": "9e9f73a4-5d40-436c-ab2d-3c0a9166bc6a",
   "metadata": {},
   "source": [
    "## pip *"
   ]
  },
  {
   "cell_type": "markdown",
   "id": "e2641365-d751-4a07-a1c2-58bc7a82c252",
   "metadata": {},
   "source": [
    "백업 pip freeze > requirements.txt<br>\n",
    "복구 pip install -r requirements.txt"
   ]
  },
  {
   "cell_type": "markdown",
   "id": "6debeb96-f78f-4869-a302-e430e6dabe47",
   "metadata": {},
   "source": [
    "## Faker"
   ]
  },
  {
   "cell_type": "code",
   "execution_count": 1,
   "id": "e12af9cb-af1f-4b4a-a0ec-3ca040c39a60",
   "metadata": {},
   "outputs": [
    {
     "name": "stdout",
     "output_type": "stream",
     "text": [
      "Collecting Faker\n",
      "  Downloading Faker-36.1.1-py3-none-any.whl.metadata (15 kB)\n",
      "Collecting tzdata (from Faker)\n",
      "  Downloading tzdata-2025.1-py2.py3-none-any.whl.metadata (1.4 kB)\n",
      "Downloading Faker-36.1.1-py3-none-any.whl (1.9 MB)\n",
      "   ---------------------------------------- 0.0/1.9 MB ? eta -:--:--\n",
      "   ---------------------------------------- 1.9/1.9 MB 51.2 MB/s eta 0:00:00\n",
      "Downloading tzdata-2025.1-py2.py3-none-any.whl (346 kB)\n",
      "Installing collected packages: tzdata, Faker\n",
      "Successfully installed Faker-36.1.1 tzdata-2025.1\n"
     ]
    }
   ],
   "source": [
    "!pip install Faker"
   ]
  },
  {
   "cell_type": "code",
   "execution_count": 5,
   "id": "ff060fc7-449b-4813-b0b5-5246e3d079b0",
   "metadata": {},
   "outputs": [
    {
     "data": {
      "text/plain": [
       "[{'name': '김선영',\n",
       "  'id': 'pi',\n",
       "  'phone': '070-4141-0928',\n",
       "  'email': 'bagsangceol@example.com'},\n",
       " {'name': '최시우',\n",
       "  'id': 'kno',\n",
       "  'phone': '043-723-0178',\n",
       "  'email': 'bno@example.com'},\n",
       " {'name': '김성진',\n",
       "  'id': 'jeongsig21',\n",
       "  'phone': '051-124-6302',\n",
       "  'email': 'hyeonjun36@example.net'},\n",
       " {'name': '안예진',\n",
       "  'id': 'gimmyeongja',\n",
       "  'phone': '032-518-7560',\n",
       "  'email': 'ancunja@example.org'},\n",
       " {'name': '장영수',\n",
       "  'id': 'sugjasong',\n",
       "  'phone': '063-120-7346',\n",
       "  'email': 'ngim@example.org'},\n",
       " {'name': '이영호',\n",
       "  'id': 'seohyeoncoe',\n",
       "  'phone': '042-411-8875',\n",
       "  'email': 'hyeonju54@example.org'},\n",
       " {'name': '배민재',\n",
       "  'id': 'sangceolsong',\n",
       "  'phone': '063-115-0680',\n",
       "  'email': 'seonghun68@example.org'},\n",
       " {'name': '박준호',\n",
       "  'id': 'vgim',\n",
       "  'phone': '070-6767-8097',\n",
       "  'email': 'hongyeonghwan@example.com'},\n",
       " {'name': '이지원',\n",
       "  'id': 'jeongung00',\n",
       "  'phone': '033-209-1088',\n",
       "  'email': 'jungsuhan@example.net'},\n",
       " {'name': '나현숙',\n",
       "  'id': 'seojungim',\n",
       "  'phone': '054-504-2529',\n",
       "  'email': 'ncoe@example.org'}]"
      ]
     },
     "execution_count": 5,
     "metadata": {},
     "output_type": "execute_result"
    }
   ],
   "source": [
    "from faker import Faker\n",
    "fake = Faker('ko-KR')\n",
    "[{'name':fake.name(), 'id':fake.user_name(), 'phone': fake.phone_number(), 'email':fake.email()} for n in range(10)]"
   ]
  },
  {
   "cell_type": "markdown",
   "id": "b561cc8c-c2eb-4e24-995d-6a92133947d4",
   "metadata": {},
   "source": [
    "<table style='float:left; width:500px'>\n",
    "<thead>\n",
    "<tr>\n",
    "<th>항목</th>\n",
    "<th>설명</th>\n",
    "</tr>\n",
    "</thead>\n",
    "<tbody>\n",
    "<tr>\n",
    "<td>fake.name()</td>\n",
    "<td>이름</td>\n",
    "</tr>\n",
    "<tr>\n",
    "<td>fake.address()</td>\n",
    "<td>주소</td>\n",
    "</tr>\n",
    "<tr>\n",
    "<td>fake.postcode()</td>\n",
    "<td>우편 번호</td>\n",
    "</tr>\n",
    "<tr>\n",
    "<td>fake.country()</td>\n",
    "<td>국가명</td>\n",
    "</tr>\n",
    "<tr>\n",
    "<td>fake.company()</td>\n",
    "<td>회사명</td>\n",
    "</tr>\n",
    "<tr>\n",
    "<td>fake.job()</td>\n",
    "<td>직업명</td>\n",
    "</tr>\n",
    "<tr>\n",
    "<td>fake.phone_number()</td>\n",
    "<td>휴대전화 번호</td>\n",
    "</tr>\n",
    "<tr>\n",
    "<td>fake.email()</td>\n",
    "<td>이메일 주소</td>\n",
    "</tr>\n",
    "<tr>\n",
    "<td>fake.user_name()</td>\n",
    "<td>사용자명</td>\n",
    "</tr>\n",
    "<tr>\n",
    "<td>fake.pyint(min_value=0, max_value=100)</td>\n",
    "<td>0부터 100 사이의 임의의 숫자</td>\n",
    "</tr>\n",
    "<tr>\n",
    "<td>fake.ipv4_private()</td>\n",
    "<td>IP 주소</td>\n",
    "</tr>\n",
    "<tr>\n",
    "<td>fake.text()</td>\n",
    "<td>임의의 문장 (한글 임의의 문장은 <code>fake.catch_phrase()</code> 사용)</td>\n",
    "</tr>\n",
    "<tr>\n",
    "<td>fake.color_name()</td>\n",
    "<td>색상명</td>\n",
    "</tr>\n",
    "</tbody>\n",
    "</table>"
   ]
  },
  {
   "cell_type": "markdown",
   "id": "dd8e348d-830f-4107-b391-ddf8494e2e07",
   "metadata": {},
   "source": [
    "## sympy"
   ]
  },
  {
   "cell_type": "code",
   "execution_count": 7,
   "id": "8fc9bcf0-02f3-4950-8fc8-e6cf3fd26cd5",
   "metadata": {},
   "outputs": [
    {
     "name": "stdout",
     "output_type": "stream",
     "text": [
      "Collecting sympy\n",
      "  Downloading sympy-1.13.3-py3-none-any.whl.metadata (12 kB)\n",
      "Collecting mpmath<1.4,>=1.1.0 (from sympy)\n",
      "  Downloading mpmath-1.3.0-py3-none-any.whl.metadata (8.6 kB)\n",
      "Downloading sympy-1.13.3-py3-none-any.whl (6.2 MB)\n",
      "   ---------------------------------------- 0.0/6.2 MB ? eta -:--:--\n",
      "   ------------------------------ --------- 4.7/6.2 MB 27.0 MB/s eta 0:00:01\n",
      "   ---------------------------------------- 6.2/6.2 MB 27.7 MB/s eta 0:00:00\n",
      "Downloading mpmath-1.3.0-py3-none-any.whl (536 kB)\n",
      "   ---------------------------------------- 0.0/536.2 kB ? eta -:--:--\n",
      "   --------------------------------------- 536.2/536.2 kB 20.9 MB/s eta 0:00:00\n",
      "Installing collected packages: mpmath, sympy\n",
      "Successfully installed mpmath-1.3.0 sympy-1.13.3\n"
     ]
    }
   ],
   "source": [
    "!pip install sympy"
   ]
  },
  {
   "cell_type": "code",
   "execution_count": 9,
   "id": "387fc956-6a6a-49cc-9c2e-f0f5f3c8a12b",
   "metadata": {},
   "outputs": [
    {
     "name": "stdout",
     "output_type": "stream",
     "text": [
      "남은 돈은 2640원 입니다.\n"
     ]
    }
   ],
   "source": [
    "from fractions import Fraction\n",
    "import sympy\n",
    "\n",
    "# 가지고 있던 돈을 x라고 하자.\n",
    "x = sympy.symbols(\"x\")\n",
    "\n",
    "# 가지고 있던 돈의 2/5가 1760원이므로 방정식은 x * (2/5) = 1760 이다.\n",
    "f = sympy.Eq(x*Fraction('2/5'), 1760)\n",
    "\n",
    "# 방정식을 만족하는 값(result)을 구한다.\n",
    "result = sympy.solve(f)  # 결괏값은 리스트\n",
    "\n",
    "# 남은 돈은 다음과 같이 가지고 있던 돈에서 1760원을 빼면 된다.\n",
    "remains = result[0] - 1760\n",
    "\n",
    "print('남은 돈은 {}원 입니다.'.format(remains))\n"
   ]
  },
  {
   "cell_type": "code",
   "execution_count": 19,
   "id": "e712d30c-68e5-4ff2-800c-4f83207da9ae",
   "metadata": {},
   "outputs": [
    {
     "name": "stdout",
     "output_type": "stream",
     "text": [
      "1위:  REBEL HEART / IVE (아이브)\n"
     ]
    }
   ],
   "source": [
    "import requests as req\n",
    "from bs4 import BeautifulSoup as bs\n",
    "\n",
    "url = 'https://www.melon.com/chart/index.htm'\n",
    "headers = {'User-Agent':'Mozilla/5.0 (Windows NT 10.0; Win64; x64) AppleWebKit/537.36 (KHTML, like Gecko) Chrome/132.0.0.0 Safari/537.36'}\n",
    "\n",
    "web = req.get(url, headers = headers)\n",
    "# print(web)\n",
    "soup = bs(web.content, 'html.parser')\n",
    "# print(soup)\n",
    "title = soup.select_one('.wrap_song_info')\n",
    "# print(title)\n",
    "# <div class=\"wrap_song_info\">\n",
    "# <div class=\"ellipsis rank01\"><span>\n",
    "# <a href=\"javascript:melon.play.playSong('1000002721',38444825);\" title=\"REBEL HEART 재생\">REBEL HEART</a>\n",
    "# </span></div><br/>\n",
    "# <div class=\"ellipsis rank02\">\n",
    "# <a href=\"javascript:melon.link.goArtistDetail('3055146');\" title=\"IVE (아이브) - 페이지 이동\">IVE (아이브)</a><span class=\"checkEllipsis\" style=\"display:none\"><a href=\"javascript:melon.link.goArtistDetail('3055146');\" title=\"IVE (아이브) - 페이지 이동\">IVE (아이브)</a></span>\n",
    "# </div>\n",
    "# </div>\n",
    "atitle = title.select_one('a')\n",
    "#print(atitle) # <a href=\"javascript:melon.play.playSong('1000002721',38444825);\" title=\"REBEL HEART 재생\">REBEL HEART</a>\n",
    "# print(atitle.text)\n",
    "aname0 = title.select_one('.checkEllipsis')\n",
    "aname = aname0.select_one('a')\n",
    "\n",
    "print('1위: ', atitle.text, '/', aname.text)"
   ]
  },
  {
   "cell_type": "code",
   "execution_count": 34,
   "id": "ca731880-d66d-4760-a1ff-816fb866bdb3",
   "metadata": {},
   "outputs": [
    {
     "name": "stdout",
     "output_type": "stream",
     "text": [
      "1위: REBEL HEART / IVE (아이브)\n",
      "2위: HOME SWEET HOME (feat. 태양, 대성) / G-DRAGON\n",
      "3위: 나는 반딧불 / 황가람\n",
      "4위: Whiplash / aespa\n",
      "5위: APT. / 로제 (ROSÉ)\n",
      "6위: 오늘만 I LOVE YOU / Bruno Mars\n",
      "7위: Drowning / BOYNEXTDOOR\n",
      "8위: ATTITUDE / WOODZ\n",
      "9위: toxic till the end / IVE (아이브)\n",
      "10위: Dash / 로제 (ROSÉ)\n",
      "11위: POWER / PLAVE\n",
      "12위: HAPPY / G-DRAGON\n",
      "13위: 내게 사랑이 뭐냐고 물어본다면 / DAY6 (데이식스)\n",
      "14위: RIZZ / 로이킴\n",
      "15위: DRIP / PLAVE\n",
      "16위: Chroma Drift / BABYMONSTER\n",
      "17위: Island / PLAVE\n",
      "18위: 소나기 / PLAVE\n",
      "19위: 12:32 (A to T) / 이클립스 (ECLIPSE)\n",
      "20위: 너와의 모든 지금 / PLAVE\n",
      " "
     ]
    }
   ],
   "source": [
    "import requests as req\n",
    "from bs4 import BeautifulSoup as bs\n",
    "\n",
    "url = 'https://www.melon.com/chart/index.htm'\n",
    "headers = {'User-Agent':'Mozilla/5.0 (Windows NT 10.0; Win64; x64) AppleWebKit/537.36 (KHTML, like Gecko) Chrome/132.0.0.0 Safari/537.36'}\n",
    "\n",
    "web = req.get(url, headers = headers)\n",
    "\n",
    "soup = bs(web.content, 'html.parser')\n",
    "\n",
    "title = soup.select('.rank01')\n",
    "name = soup.select('.checkEllipsis a')[:20]\n",
    "str = ''\n",
    "# print(title)\n",
    "for i, (t,n) in enumerate(zip(title,name),1):\n",
    "    # print(f'{1}위:', t.text.strip(),'/',n.text)\n",
    "    str += f'{i}위: {t.text.strip()} / {n.text}\\n'\n",
    "print(str,end=' ')\n",
    "    # aname = name.select_one('a')\n",
    "\n",
    "# atitle = title.select_one('a')\n",
    "\n",
    "# aname0 = title.select_one('.checkEllipsis')\n",
    "# aname = aname0.select_one('a')\n",
    "\n",
    "# print('1위: ', atitle.text, '/', aname.text)"
   ]
  },
  {
   "cell_type": "code",
   "execution_count": 35,
   "id": "c0a9ab50-3428-4d7c-9fcd-4d011e3b9c16",
   "metadata": {},
   "outputs": [
    {
     "name": "stdout",
     "output_type": "stream",
     "text": [
      "1위: REBEL HEART / IVE (아이브)\n",
      "2위: HOME SWEET HOME (feat. 태양, 대성) / G-DRAGON\n",
      "3위: 나는 반딧불 / 황가람\n",
      "4위: Whiplash / aespa\n",
      "5위: APT. / 로제 (ROSÉ)\n",
      "6위: 오늘만 I LOVE YOU / Bruno Mars\n",
      "7위: Drowning / BOYNEXTDOOR\n",
      "8위: ATTITUDE / WOODZ\n",
      "9위: toxic till the end / IVE (아이브)\n",
      "10위: Dash / 로제 (ROSÉ)\n",
      "11위: POWER / PLAVE\n",
      "12위: HAPPY / G-DRAGON\n",
      "13위: 내게 사랑이 뭐냐고 물어본다면 / DAY6 (데이식스)\n",
      "14위: RIZZ / 로이킴\n",
      "15위: DRIP / PLAVE\n",
      "16위: Chroma Drift / BABYMONSTER\n",
      "17위: Island / PLAVE\n",
      "18위: 소나기 / PLAVE\n",
      "19위: 12:32 (A to T) / 이클립스 (ECLIPSE)\n",
      "20위: 너와의 모든 지금 / PLAVE\n",
      " "
     ]
    }
   ],
   "source": [
    "import melon\n",
    "melon.mel()"
   ]
  },
  {
   "cell_type": "code",
   "execution_count": 3,
   "id": "b26cee80-0a55-4461-9b09-ced1b7d2652c",
   "metadata": {},
   "outputs": [
    {
     "name": "stdout",
     "output_type": "stream",
     "text": [
      "1위: 삼성전자 58,500원\n",
      "2위: SK하이닉스 216,500원\n",
      "3위: LG에너지솔루션 374,500원\n",
      "4위: 삼성바이오로직스 1,131,000원\n",
      "5위: 현대차 202,000원\n",
      "6위: 삼성전자우 49,250원\n",
      "7위: 셀트리온 180,400원\n",
      "8위: 기아 93,800원\n",
      "9위: NAVER 219,500원\n",
      "10위: KB금융 82,500원\n",
      "11위: 한화에어로스페이스 615,000원\n",
      "12위: HD현대중공업 315,500원\n",
      "13위: 신한지주 47,600원\n",
      "14위: 삼성물산 132,500원\n",
      "15위: 메리츠금융지주 123,300원\n",
      "16위: 현대모비스 250,000원\n",
      "17위: 한화오션 72,600원\n",
      "18위: POSCO홀딩스 263,500원\n",
      "19위: 삼성생명 100,900원\n",
      "20위: SK이노베이션 131,500원\n",
      "21위: 삼성화재 404,000원\n",
      "22위: 두산에너빌리티 28,450원\n",
      "23위: 하나금융지주 62,300원\n",
      "24위: 카카오 40,100원\n",
      "25위: LG화학 248,500원\n",
      "26위: 고려아연 821,000원\n",
      "27위: HMM 18,530원\n",
      "28위: 크래프톤 333,000원\n",
      "29위: HD한국조선해양 223,000원\n",
      "30위: 삼성SDI 229,500원\n",
      "31위: 한국전력 21,600원\n",
      "32위: SK스퀘어 102,500원\n",
      "33위: HD현대일렉트릭 376,500원\n",
      "34위: LG전자 81,800원\n",
      "35위: KT&G 105,400원\n",
      "36위: 우리금융지주 17,420원\n",
      "37위: SK텔레콤 58,000원\n",
      "38위: 기업은행 15,600원\n",
      "39위: 삼성중공업 13,850원\n",
      "40위: KT 47,400원\n",
      "41위: 카카오뱅크 23,850원\n",
      "42위: 포스코퓨처엠 143,300원\n",
      "43위: LG 70,400원\n",
      "44위: SK 149,900원\n",
      "45위: 삼성전기 141,500원\n",
      "46위: 하이브 250,500원\n",
      "47위: 한미반도체 104,700원\n",
      "48위: 삼성에스디에스 130,600원\n",
      "49위: 유한양행 123,200원\n",
      "50위: 현대글로비스 128,100원\n"
     ]
    }
   ],
   "source": [
    "import requests as req\n",
    "from bs4 import BeautifulSoup as bs\n",
    "\n",
    "url = 'https://finance.naver.com/sise/sise_market_sum.naver'\n",
    "web = req.get(url)\n",
    "# print(web)\n",
    "soup = bs(web.content, 'html.parser')\n",
    "# soup = bs(web.content, 'html5lib')\n",
    "# print(soup)\n",
    "title = soup.select('.type_2')\n",
    "name = soup.select('.tltle')\n",
    "# print(title)\n",
    "# print(name)\n",
    "atitle = soup.select('.type_2')\n",
    "# atitle = soup.select('tbody')\n",
    "# aname = soup.select('.number')\n",
    "# aname = soup.select('tbody')[0:2]\n",
    "# aname = soup.select('td:first-child')\n",
    "# aname = soup.select('table.type_2 tbody tr td.number')\n",
    "aname = soup.select('td.number:nth-child(3)')\n",
    "# print(aname)\n",
    "for i, (n,a) in enumerate(zip(name,aname),1):\n",
    "# for i, n, a in enumerate(name,1, aname):\n",
    "    print(f'{i}위: {n.text} {a.text}원')"
   ]
  },
  {
   "cell_type": "code",
   "execution_count": 2,
   "id": "ca9451ea-cc14-4a8e-ad6b-d19a151a96e0",
   "metadata": {},
   "outputs": [
    {
     "name": "stdout",
     "output_type": "stream",
     "text": [
      "1위: 삼성전자 58,800\n",
      "2위: SK하이닉스 217,500\n",
      "3위: LG에너지솔루션 374,000\n",
      "4위: 삼성바이오로직스 1,129,000\n",
      "5위: 현대차 202,000\n",
      "6위: 삼성전자우 49,250\n",
      "7위: 셀트리온 180,200\n",
      "8위: 기아 93,800\n",
      "9위: NAVER 220,500\n",
      "10위: KB금융 82,300\n",
      "11위: HD현대중공업 318,500\n",
      "12위: 한화에어로스페이스 611,000\n",
      "13위: 신한지주 47,600\n",
      "14위: 삼성물산 133,000\n",
      "15위: 메리츠금융지주 123,900\n",
      "16위: 현대모비스 250,500\n",
      "17위: 한화오션 73,200\n",
      "18위: POSCO홀딩스 264,000\n",
      "19위: 삼성생명 100,900\n",
      "20위: SK이노베이션 131,100\n",
      "21위: 삼성화재 405,000\n",
      "22위: 두산에너빌리티 28,550\n",
      "23위: 하나금융지주 62,300\n",
      "24위: 카카오 40,150\n",
      "25위: LG화학 248,000\n",
      "26위: 고려아연 817,000\n",
      "27위: HMM 18,550\n",
      "28위: 크래프톤 331,000\n",
      "29위: HD한국조선해양 223,500\n",
      "30위: 삼성SDI 229,500\n",
      "31위: 한국전력 21,450\n",
      "32위: SK스퀘어 102,500\n",
      "33위: HD현대일렉트릭 377,000\n",
      "34위: LG전자 81,900\n",
      "35위: KT&G 105,300\n",
      "36위: 우리금융지주 17,400\n",
      "37위: SK텔레콤 57,900\n",
      "38위: 기업은행 15,550\n",
      "39위: 삼성중공업 13,970\n",
      "40위: KT 47,200\n",
      "41위: 카카오뱅크 23,850\n",
      "42위: 포스코퓨처엠 143,500\n",
      "43위: LG 70,200\n",
      "44위: SK 150,200\n",
      "45위: 삼성전기 141,500\n",
      "46위: 하이브 250,500\n",
      "47위: 한미반도체 106,100\n",
      "48위: 삼성에스디에스 130,100\n",
      "49위: 유한양행 123,300\n",
      "50위: 현대글로비스 128,200\n"
     ]
    }
   ],
   "source": [
    "import sise\n",
    "sise.nsise()"
   ]
  },
  {
   "cell_type": "code",
   "execution_count": 62,
   "id": "fb706d02-c5bb-48cd-9c91-2ba0cfd632e5",
   "metadata": {},
   "outputs": [
    {
     "name": "stdout",
     "output_type": "stream",
     "text": [
      "Collecting html5lib\n",
      "  Downloading html5lib-1.1-py2.py3-none-any.whl.metadata (16 kB)\n",
      "Requirement already satisfied: six>=1.9 in c:\\users\\admin\\appdata\\local\\programs\\python\\python313\\lib\\site-packages (from html5lib) (1.17.0)\n",
      "Requirement already satisfied: webencodings in c:\\users\\admin\\appdata\\local\\programs\\python\\python313\\lib\\site-packages (from html5lib) (0.5.1)\n",
      "Downloading html5lib-1.1-py2.py3-none-any.whl (112 kB)\n",
      "Installing collected packages: html5lib\n",
      "Successfully installed html5lib-1.1\n"
     ]
    }
   ],
   "source": [
    "!pip install html5lib"
   ]
  },
  {
   "cell_type": "code",
   "execution_count": 17,
   "id": "5d3946f8-cfb3-4823-849b-7051bae17cdc",
   "metadata": {},
   "outputs": [
    {
     "name": "stdout",
     "output_type": "stream",
     "text": [
      "월 2025.02.17\n",
      "정식-5,500원\n",
      "강황밥\n",
      "김치콩나물국\n",
      "돈육바싹불고기\n",
      "모듬잡채\n",
      "멸치새우견과볶음\n",
      "상추겉절이\n",
      "포기김치\n",
      "\n",
      "--------------------\n",
      "화 2025.02.18\n",
      "정식-5,500원\n",
      "백미밥\n",
      "물만두국\n",
      "순살닭매콤조림\n",
      "쫄면야채무침\n",
      "파래무무침\n",
      "참나물겉절이\n",
      "포기김치\n",
      "\n",
      "--------------------\n",
      "수 2025.02.19\n",
      "정식-5,500원\n",
      "백미밥\n",
      "모듬어묵국\n",
      "함박스테이크/치즈/소스\n",
      "스파게티/소스\n",
      "치커리유자청샐러드\n",
      "콩나물무침\n",
      "포기김치\n",
      "\n",
      "--------------------\n",
      "목 2025.02.20\n",
      "정식-5,500원\n",
      "잡곡밥\n",
      "홍합미역국\n",
      "순살치킨/맛초킹소스\n",
      "꼬시레기두부무침\n",
      "잡채어묵조림\n",
      "상추겉절이\n",
      "포기김치\n",
      "\n",
      "--------------------\n",
      "금 2025.02.21\n",
      "정식-5,500원\n",
      "백미밥\n",
      "국수\n",
      "깐풍기/소스\n",
      "알감자버터구이\n",
      "도토리묵김치무침\n",
      "열무겉절이\n",
      "포기김치\n",
      "\n",
      "--------------------\n"
     ]
    }
   ],
   "source": [
    "import requests as req\n",
    "from bs4 import BeautifulSoup as bs\n",
    "\n",
    "\n",
    "url = 'https://www.pusan.ac.kr/kor/CMS/MenuMgr/menuListOnBuilding.do?mCode=MN202'\n",
    "headers = {'User-Agent':'Mozilla/5.0 (Windows NT 10.0; Win64; x64) AppleWebKit/537.36 (KHTML, like Gecko) Chrome/132.0.0.0 Safari/537.36'}\n",
    "\n",
    "web = req.get(url, headers = headers)\n",
    "soup = bs(web.content, 'html5lib')\n",
    "# print(soup)\n",
    "menucard = soup.select('.menu-tbl')\n",
    "# print(menucard)\n",
    "won = soup.select('.menu-tit01')\n",
    "# print(won)\n",
    "menu = soup.select('.menu-tit01+p')\n",
    "# print(menu)\n",
    "day = soup.select('.day') \n",
    "date = soup.select('.date') \n",
    "for d, dd, w, m in zip (day, date, won, menu):\n",
    "    print(d.text, dd.text)\n",
    "    print(w.text+'\\n'+m.text)\n",
    "    print('-'*20)"
   ]
  },
  {
   "cell_type": "code",
   "execution_count": 20,
   "id": "533ced2b-419a-46e7-a5a1-e033e5b88eb8",
   "metadata": {},
   "outputs": [
    {
     "name": "stdout",
     "output_type": "stream",
     "text": [
      "월 2025.02.17\n",
      "정식-5,500원\n",
      "강황밥\n",
      "김치콩나물국\n",
      "돈육바싹불고기\n",
      "모듬잡채\n",
      "멸치새우견과볶음\n",
      "상추겉절이\n",
      "포기김치\n",
      "\n",
      "--------------------\n",
      "화 2025.02.18\n",
      "정식-5,500원\n",
      "백미밥\n",
      "물만두국\n",
      "순살닭매콤조림\n",
      "쫄면야채무침\n",
      "파래무무침\n",
      "참나물겉절이\n",
      "포기김치\n",
      "\n",
      "--------------------\n",
      "수 2025.02.19\n",
      "정식-5,500원\n",
      "백미밥\n",
      "모듬어묵국\n",
      "함박스테이크/치즈/소스\n",
      "스파게티/소스\n",
      "치커리유자청샐러드\n",
      "콩나물무침\n",
      "포기김치\n",
      "\n",
      "--------------------\n",
      "목 2025.02.20\n",
      "정식-5,500원\n",
      "잡곡밥\n",
      "홍합미역국\n",
      "순살치킨/맛초킹소스\n",
      "꼬시레기두부무침\n",
      "잡채어묵조림\n",
      "상추겉절이\n",
      "포기김치\n",
      "\n",
      "--------------------\n",
      "금 2025.02.21\n",
      "정식-5,500원\n",
      "백미밥\n",
      "국수\n",
      "깐풍기/소스\n",
      "알감자버터구이\n",
      "도토리묵김치무침\n",
      "열무겉절이\n",
      "포기김치\n",
      "\n",
      "--------------------\n"
     ]
    }
   ],
   "source": [
    "import bab\n",
    "bab.bbab()"
   ]
  },
  {
   "cell_type": "code",
   "execution_count": null,
   "id": "8c18c6ba-85f1-45ac-9162-2c39a80c8dba",
   "metadata": {},
   "outputs": [],
   "source": []
  }
 ],
 "metadata": {
  "kernelspec": {
   "display_name": "Python 3 (ipykernel)",
   "language": "python",
   "name": "python3"
  },
  "language_info": {
   "codemirror_mode": {
    "name": "ipython",
    "version": 3
   },
   "file_extension": ".py",
   "mimetype": "text/x-python",
   "name": "python",
   "nbconvert_exporter": "python",
   "pygments_lexer": "ipython3",
   "version": "3.13.1"
  }
 },
 "nbformat": 4,
 "nbformat_minor": 5
}
