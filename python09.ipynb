{
 "cells": [
  {
   "cell_type": "code",
   "execution_count": null,
   "id": "5de6d444-01b5-45b0-b230-0ca73f041898",
   "metadata": {
    "id": "0okm58lVJ5Yv"
   },
   "outputs": [],
   "source": [
    "# 구글 Gemini AI\n",
    "from google import genai\n",
    "\n",
    "client = genai.Client(api_key=\"YOUR_API_KEY\")\n",
    "\n",
    "response = client.models.generate_content(\n",
    "    model=\"gemini-2.0-flash\",\n",
    "    contents=\"Explain how AI works\",\n",
    ")\n",
    "\n",
    "print(response.text)"
   ]
  }
 ],
 "metadata": {
  "kernelspec": {
   "display_name": "Python 3 (ipykernel)",
   "language": "python",
   "name": "python3"
  },
  "language_info": {
   "codemirror_mode": {
    "name": "ipython",
    "version": 3
   },
   "file_extension": ".py",
   "mimetype": "text/x-python",
   "name": "python",
   "nbconvert_exporter": "python",
   "pygments_lexer": "ipython3",
   "version": "3.13.1"
  }
 },
 "nbformat": 4,
 "nbformat_minor": 5
}
