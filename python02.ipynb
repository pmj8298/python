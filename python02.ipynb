{
 "cells": [
  {
   "cell_type": "markdown",
   "id": "7c9598a3-4f56-4987-a850-a036a7a05b77",
   "metadata": {},
   "source": [
    "# 자료형"
   ]
  },
  {
   "cell_type": "markdown",
   "id": "c5e6ebe5-e14f-4040-a0d8-3598ba3ea486",
   "metadata": {},
   "source": [
    "## 리스트 자료형"
   ]
  },
  {
   "cell_type": "markdown",
   "id": "6b4bcbd2-920b-47db-a3bd-cbac4171ed5c",
   "metadata": {},
   "source": [
    "### 리스트의 인덱싱과 슬라이싱"
   ]
  },
  {
   "cell_type": "code",
   "execution_count": 1,
   "id": "9feef8fe-91bb-4fb5-b5b3-b78ac9c1bd89",
   "metadata": {},
   "outputs": [],
   "source": [
    "odd = [1,3,5,7,9]"
   ]
  },
  {
   "cell_type": "code",
   "execution_count": 9,
   "id": "d44cb499-21fe-4be2-8e9c-ed8069125ce3",
   "metadata": {},
   "outputs": [
    {
     "name": "stdout",
     "output_type": "stream",
     "text": [
      "3\n",
      "['Life', 'is']\n",
      "Life\n",
      "is\n",
      "5\n",
      "Lifeshort\n",
      "LifeLifeLife\n",
      "short\n"
     ]
    }
   ],
   "source": [
    "a = []\n",
    "b = [1,2,3]\n",
    "c = ['Life','is','too','short']\n",
    "d = [1,2,'Life','is']\n",
    "e = [1,2,['Life','is']]\n",
    "print(b[2])\n",
    "print(e[2])\n",
    "print(e[2][0])\n",
    "print(e[2][1])\n",
    "print(b[2]+b[1]) # 계산도 가능\n",
    "print(c[0]+c[3]) # 계산도 가능\n",
    "print(c[0]*b[2]) # 계산도 가능\n",
    "print(c[-1])"
   ]
  },
  {
   "cell_type": "code",
   "execution_count": 19,
   "id": "d34c498c-c951-4bbb-a255-923ff00870e9",
   "metadata": {},
   "outputs": [
    {
     "name": "stdout",
     "output_type": "stream",
     "text": [
      "[11, 22, 33]\n",
      "[44, 55]\n",
      "[11, 22]\n",
      "[55, 44, 33, 22, 11]\n"
     ]
    }
   ],
   "source": [
    "#리스트의 슬라이싱\n",
    "a=[11,22,33,44,55]\n",
    "print(a[0:3])\n",
    "print(a[-2:])\n",
    "print(a[:-3])\n",
    "print(a[::-1])"
   ]
  },
  {
   "cell_type": "code",
   "execution_count": 20,
   "id": "b597f887-fff7-4b7d-800d-5caba4765940",
   "metadata": {},
   "outputs": [
    {
     "name": "stdout",
     "output_type": "stream",
     "text": [
      "[2, 3]\n"
     ]
    }
   ],
   "source": [
    "a=[1,2,3,4,5]\n",
    "print(a[1:3])"
   ]
  },
  {
   "cell_type": "markdown",
   "id": "1d0a04a6-834c-4491-b2c5-3fdb8c0e0277",
   "metadata": {},
   "source": [
    "### 리스트 연산, 수정, 삭제하기"
   ]
  },
  {
   "cell_type": "code",
   "execution_count": 26,
   "id": "818d93bc-586a-4f7d-92b2-11135d72bcf3",
   "metadata": {},
   "outputs": [
    {
     "name": "stdout",
     "output_type": "stream",
     "text": [
      "[11, 22, 33, 44, 55, 66]\n",
      "[11, 22, 33, 11, 22, 33, 11, 22, 33]\n",
      "9\n"
     ]
    }
   ],
   "source": [
    "a = [11,22,33]\n",
    "b = [44,55,66]\n",
    "#리스트 더하기\n",
    "print(a+b)\n",
    "#리스트 반복하기\n",
    "print(a*3)\n",
    "\n",
    "c = a * 3\n",
    "print(len(c))"
   ]
  },
  {
   "cell_type": "code",
   "execution_count": 48,
   "id": "897a4065-b639-4643-b145-4c47aeb4faf7",
   "metadata": {},
   "outputs": [
    {
     "name": "stdout",
     "output_type": "stream",
     "text": [
      "[11, 22, 55]\n",
      "[11, '', 55]\n",
      "[11, 55]\n"
     ]
    }
   ],
   "source": [
    "#리스트 값 수정하기\n",
    "a = [11,22,33]\n",
    "a[2] = 55\n",
    "print(a)\n",
    "# a[3] = 44\n",
    "# print(a) => 에러남 - 없는 요소를 수정하는 것은 불가\n",
    "##############################################\n",
    "# 리스트 요소 삭제\n",
    "a[1] = '' #삭제되는 것이 아니라 빈칸이 삽입됨\n",
    "print(a)\n",
    "del a[1]\n",
    "print(a)"
   ]
  },
  {
   "cell_type": "code",
   "execution_count": 25,
   "id": "2eba1518-492e-4d67-8006-561c60ead792",
   "metadata": {},
   "outputs": [
    {
     "name": "stdout",
     "output_type": "stream",
     "text": [
      "[11, 22, 33, 44, 55, 667, 77, 88, 99]\n",
      "[55, 667, 77, 88, 99]\n"
     ]
    }
   ],
   "source": [
    "#리스트 값 슬라이싱으로 삭제\n",
    "w = [11,22,33,44,55,667,77,88,99]\n",
    "print(w)\n",
    "del w[:4]\n",
    "print(w)"
   ]
  },
  {
   "cell_type": "markdown",
   "id": "b9778fe1-0bee-4f17-8f4f-96832e25d6e1",
   "metadata": {},
   "source": [
    "### 리스트 관련 함수"
   ]
  },
  {
   "cell_type": "code",
   "execution_count": 58,
   "id": "57a2600e-5fa1-44a7-8436-4ecd987bc692",
   "metadata": {},
   "outputs": [
    {
     "data": {
      "text/plain": [
       "['__add__',\n",
       " '__class__',\n",
       " '__class_getitem__',\n",
       " '__contains__',\n",
       " '__delattr__',\n",
       " '__delitem__',\n",
       " '__dir__',\n",
       " '__doc__',\n",
       " '__eq__',\n",
       " '__format__',\n",
       " '__ge__',\n",
       " '__getattribute__',\n",
       " '__getitem__',\n",
       " '__getstate__',\n",
       " '__gt__',\n",
       " '__hash__',\n",
       " '__iadd__',\n",
       " '__imul__',\n",
       " '__init__',\n",
       " '__init_subclass__',\n",
       " '__iter__',\n",
       " '__le__',\n",
       " '__len__',\n",
       " '__lt__',\n",
       " '__mul__',\n",
       " '__ne__',\n",
       " '__new__',\n",
       " '__reduce__',\n",
       " '__reduce_ex__',\n",
       " '__repr__',\n",
       " '__reversed__',\n",
       " '__rmul__',\n",
       " '__setattr__',\n",
       " '__setitem__',\n",
       " '__sizeof__',\n",
       " '__str__',\n",
       " '__subclasshook__',\n",
       " 'append',\n",
       " 'clear',\n",
       " 'copy',\n",
       " 'count',\n",
       " 'extend',\n",
       " 'index',\n",
       " 'insert',\n",
       " 'pop',\n",
       " 'remove',\n",
       " 'reverse',\n",
       " 'sort']"
      ]
     },
     "execution_count": 58,
     "metadata": {},
     "output_type": "execute_result"
    }
   ],
   "source": [
    "dir(list)"
   ]
  },
  {
   "cell_type": "code",
   "execution_count": 44,
   "id": "fa8f4b73-ea29-4bb1-925d-9e92ffd41341",
   "metadata": {},
   "outputs": [
    {
     "name": "stdout",
     "output_type": "stream",
     "text": [
      "[]\n"
     ]
    }
   ],
   "source": [
    "#리스트 요소 비우기(초기화)\n",
    "c.clear()\n",
    "print(c)"
   ]
  },
  {
   "cell_type": "code",
   "execution_count": null,
   "id": "784fdd91-6017-4714-8218-598486a40339",
   "metadata": {},
   "outputs": [],
   "source": [
    "a=[] #리스트 초기화"
   ]
  },
  {
   "cell_type": "code",
   "execution_count": 45,
   "id": "82e30396-beac-4b65-9a8d-4f7647811272",
   "metadata": {},
   "outputs": [
    {
     "name": "stdout",
     "output_type": "stream",
     "text": [
      "[11, 55, 4, 4, [11, 22], 4, [11, 22], 4]\n",
      "[11, 55, 4, 4, [11, 22], 4, [11, 22], 4, [11, 22]]\n"
     ]
    }
   ],
   "source": [
    "#리스트에 요소 추가하기 - append\n",
    "a.append(4)\n",
    "print(a)\n",
    "a.append([11,22])\n",
    "print(a)"
   ]
  },
  {
   "cell_type": "code",
   "execution_count": 52,
   "id": "048c98f7-a17f-42ce-891e-63c6d54afa5b",
   "metadata": {},
   "outputs": [],
   "source": [
    "b = []\n",
    "num = 0"
   ]
  },
  {
   "cell_type": "code",
   "execution_count": 57,
   "id": "638d861b-d09e-4e40-a5c6-1c8912141228",
   "metadata": {},
   "outputs": [
    {
     "name": "stdout",
     "output_type": "stream",
     "text": [
      "[1, 2, 3, 4, 5]\n"
     ]
    }
   ],
   "source": [
    "num+= 1\n",
    "b.append(num)\n",
    "print(b)"
   ]
  },
  {
   "cell_type": "code",
   "execution_count": 4,
   "id": "df38e18c-b7b3-4e7c-b50e-009fd2a91eae",
   "metadata": {},
   "outputs": [
    {
     "name": "stdout",
     "output_type": "stream",
     "text": [
      "[11, 22, 33, 44, 55]\n"
     ]
    }
   ],
   "source": [
    "#리스트 정렬(오름차순) - srot\n",
    "a = [22,55,44,33,11]\n",
    "a.sort()\n",
    "print(a)"
   ]
  },
  {
   "cell_type": "code",
   "execution_count": 3,
   "id": "c19cccba-7544-4d6d-8a38-079df53b7d74",
   "metadata": {},
   "outputs": [
    {
     "name": "stdout",
     "output_type": "stream",
     "text": [
      "[55, 44, 33, 22, 11]\n"
     ]
    }
   ],
   "source": [
    "#리스트 정렬(내림차순) - srot\n",
    "a = [22,55,44,33,11]\n",
    "a.sort(reverse=True)\n",
    "print(a)"
   ]
  },
  {
   "cell_type": "code",
   "execution_count": 7,
   "id": "fcd5a698-0f39-4b23-af1d-f785d385621b",
   "metadata": {},
   "outputs": [
    {
     "name": "stdout",
     "output_type": "stream",
     "text": [
      "[66, 77, 88, 99, 0]\n",
      "[0, 66, 77, 88, 99]\n",
      "[99, 88, 77, 66, 0]\n"
     ]
    }
   ],
   "source": [
    "#리스트정렬 원본유지하기\n",
    "aa=[66,77,88,99,0]\n",
    "bb=sorted(aa)\n",
    "cc=sorted(aa,reverse=True)\n",
    "\n",
    "print(aa)\n",
    "print(bb)\n",
    "print(cc)"
   ]
  },
  {
   "cell_type": "code",
   "execution_count": 2,
   "id": "f6f19448-e226-4c2d-9bfe-3ce0745fb669",
   "metadata": {},
   "outputs": [
    {
     "name": "stdout",
     "output_type": "stream",
     "text": [
      "[11, 33, 44, 55, 22]\n"
     ]
    }
   ],
   "source": [
    "#리스트 뒤집기 - reverse\n",
    "a = [22,55,44,33,11]\n",
    "a.reverse()\n",
    "print(a)"
   ]
  },
  {
   "cell_type": "code",
   "execution_count": 10,
   "id": "0b2f5f1f-8d64-40d1-9c77-4e8529bf69ca",
   "metadata": {},
   "outputs": [
    {
     "name": "stdout",
     "output_type": "stream",
     "text": [
      "['banana', 'apple', 'orange', 'strawberry', 'pear', 'mango', 'kiwi', 'blueberry']\n",
      "['pear', 'kiwi', 'apple', 'mango', 'banana', 'orange', 'blueberry', 'strawberry']\n",
      "['strawberry', 'blueberry', 'banana', 'orange', 'apple', 'mango', 'pear', 'kiwi']\n"
     ]
    }
   ],
   "source": [
    "#sorted응용\n",
    "fruit = ['banana','apple','orange','strawberry','pear','mango','kiwi','blueberry']\n",
    "result=sorted(fruit,key=len)\n",
    "result2=sorted(fruit,key=len,reverse=True)\n",
    "print(fruit)\n",
    "print(result)\n",
    "print(result2)"
   ]
  },
  {
   "cell_type": "code",
   "execution_count": 18,
   "id": "add7252f-559f-437a-80f5-cdfd72f13c05",
   "metadata": {},
   "outputs": [
    {
     "name": "stdout",
     "output_type": "stream",
     "text": [
      "과일을 먹어보쟈\n",
      "pear 냠냠\n",
      "kiwi 냠냠\n",
      "apple 냠냠\n",
      "mango 냠냠\n",
      "banana 싫어해\n",
      "orange 냠냠\n",
      "blueberry 냠냠\n",
      "strawberry 냠냠\n",
      "다 먹었다\n"
     ]
    }
   ],
   "source": [
    "print('과일을 먹어보쟈')\n",
    "for r in result:\n",
    "    if r == 'banana':\n",
    "        print(r + ' 싫어해')\n",
    "    if r != 'banana': \n",
    "        print(r + ' 냠냠')\n",
    "print('다 먹었다')"
   ]
  },
  {
   "cell_type": "code",
   "execution_count": 21,
   "id": "5820784e-dbbd-454b-81b5-80e583413a78",
   "metadata": {},
   "outputs": [
    {
     "data": {
      "text/plain": [
       "5"
      ]
     },
     "execution_count": 21,
     "metadata": {},
     "output_type": "execute_result"
    }
   ],
   "source": [
    "#인덱스 반환\n",
    "fruit = ['banana','apple','orange','strawberry','pear','mango','kiwi','blueberry']\n",
    "fruit.index('mango')\n",
    "# fruit.index('ma') - 에러"
   ]
  },
  {
   "cell_type": "code",
   "execution_count": 24,
   "id": "29caf168-e5c6-44cf-8dee-fbec001b32d7",
   "metadata": {},
   "outputs": [
    {
     "name": "stdin",
     "output_type": "stream",
     "text": [
      "먹고 싶은 과일을 입력하세요 mango\n"
     ]
    },
    {
     "name": "stdout",
     "output_type": "stream",
     "text": [
      "mango를 좋아해 6번 째에 있어요\n"
     ]
    }
   ],
   "source": [
    "#인덱스 응용\n",
    "fruit = ['banana','apple','orange','strawberry','pear','mango','kiwi','blueberry']\n",
    "want = input('먹고 싶은 과일을 입력하세요')\n",
    "where = fruit.index(want)\n",
    "print(f'{want}를 좋아해 {where+1}번 째에 있어요')"
   ]
  },
  {
   "cell_type": "code",
   "execution_count": 28,
   "id": "2ddeaedd-7a1a-4214-9abe-d6eb22a2ad12",
   "metadata": {},
   "outputs": [
    {
     "name": "stdout",
     "output_type": "stream",
     "text": [
      "[11, 22, 33, 55, 66, 77, 88]\n",
      "[11, 22, 33, 44, 55, 66, 77, 88]\n"
     ]
    }
   ],
   "source": [
    "#리스트에 요소 삽입 - insert\n",
    "num = [11,22,33,55,66,77,88]\n",
    "print(num)\n",
    "num.insert(3,44) #insert는 인자를 2개 받음, 앞에는 위치 뒤에는 넣고 싶은 요소를 넣으면 된다\n",
    "print(num)"
   ]
  },
  {
   "cell_type": "code",
   "execution_count": 29,
   "id": "1a87d7bd-f6df-4178-bd1b-12cb5e4cb959",
   "metadata": {},
   "outputs": [],
   "source": [
    "ex = []"
   ]
  },
  {
   "cell_type": "code",
   "execution_count": 34,
   "id": "b8435f15-9c43-4bd9-8043-eefdf9eaa68e",
   "metadata": {},
   "outputs": [
    {
     "name": "stdout",
     "output_type": "stream",
     "text": [
      "[99, 55, 99, 99, 1]\n"
     ]
    }
   ],
   "source": [
    "ex.insert(len(ex),1) #배열의 끝부분에 숫자를 넣을 수 있음\n",
    "print(ex)"
   ]
  },
  {
   "cell_type": "code",
   "execution_count": 36,
   "id": "8418388b-b713-4854-bd5c-142f87decbfa",
   "metadata": {},
   "outputs": [
    {
     "name": "stdout",
     "output_type": "stream",
     "text": [
      "['맨앞', 99, 55, 99, 99, 1]\n",
      "['맨앞', 99, 55, 99, 99, '-1인덱스', 1]\n",
      "['맨앞', '맨앞', 99, 55, 99, 99, '-1인덱스', 1]\n",
      "['맨앞', '맨앞', 99, 55, 99, 99, '-1인덱스', 1, '제일 끝']\n"
     ]
    }
   ],
   "source": [
    "ex.insert(0,'맨앞')\n",
    "print(ex)\n",
    "ex.insert(-1,'-1인덱스')\n",
    "print(ex)\n",
    "ex.insert(0,'맨앞')\n",
    "print(ex)\n",
    "ex.insert(len(ex),'제일 끝') #배열의 끝부분에 숫자를 넣을 수 있음\n",
    "print(ex)"
   ]
  },
  {
   "cell_type": "code",
   "execution_count": 1,
   "id": "0e287855-fade-4aa6-916b-6c3a0adde2a0",
   "metadata": {},
   "outputs": [],
   "source": [
    "#리스트 요소 제거 - remove"
   ]
  },
  {
   "cell_type": "code",
   "execution_count": null,
   "id": "afad8102-bffe-4c8c-9824-df40af97502b",
   "metadata": {},
   "outputs": [],
   "source": []
  }
 ],
 "metadata": {
  "kernelspec": {
   "display_name": "Python 3 (ipykernel)",
   "language": "python",
   "name": "python3"
  },
  "language_info": {
   "codemirror_mode": {
    "name": "ipython",
    "version": 3
   },
   "file_extension": ".py",
   "mimetype": "text/x-python",
   "name": "python",
   "nbconvert_exporter": "python",
   "pygments_lexer": "ipython3",
   "version": "3.13.1"
  }
 },
 "nbformat": 4,
 "nbformat_minor": 5
}
