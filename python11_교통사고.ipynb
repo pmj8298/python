{
 "cells": [
  {
   "cell_type": "markdown",
   "id": "aac6419b-20c8-40dd-95af-7d764799bb7b",
   "metadata": {},
   "source": [
    "# 교통사고 유형별 발생 분석\n",
    "- 공공 데이터 교통사고 유형, 검색어: 전국교통사고다발지역\n",
    "- csv 파일 다운"
   ]
  },
  {
   "cell_type": "code",
   "execution_count": 1,
   "id": "64f76df0-9d68-4957-a026-79c6572da528",
   "metadata": {},
   "outputs": [],
   "source": [
    "import matplotlib\n",
    "import matplotlib.pyplot as plt\n",
    "import matplotlib.font_manager as fm\n",
    "# import matplotlib.dates as mdates\n",
    "\n",
    "import pandas as pd\n",
    "from datetime import datetime"
   ]
  },
  {
   "cell_type": "code",
   "execution_count": null,
   "id": "a3da36c1-dbe0-42f0-9074-3ee68b7a21b9",
   "metadata": {},
   "outputs": [],
   "source": []
  }
 ],
 "metadata": {
  "kernelspec": {
   "display_name": "Python 3 (ipykernel)",
   "language": "python",
   "name": "python3"
  },
  "language_info": {
   "codemirror_mode": {
    "name": "ipython",
    "version": 3
   },
   "file_extension": ".py",
   "mimetype": "text/x-python",
   "name": "python",
   "nbconvert_exporter": "python",
   "pygments_lexer": "ipython3",
   "version": "3.13.1"
  }
 },
 "nbformat": 4,
 "nbformat_minor": 5
}
