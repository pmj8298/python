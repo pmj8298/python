{
 "cells": [
  {
   "cell_type": "markdown",
   "id": "2aa8f8e5-9b6c-478b-99e3-6ebac2856bbb",
   "metadata": {},
   "source": [
    "# 제어문"
   ]
  },
  {
   "cell_type": "code",
   "execution_count": 27,
   "id": "64adf4f1-4a10-44a9-9a50-46d50a1f0ac9",
   "metadata": {},
   "outputs": [
    {
     "name": "stdout",
     "output_type": "stream",
     "text": [
      "true는 항상 동작합니다\n",
      "5가 2보다 큼\n",
      " 나오나?\n"
     ]
    }
   ],
   "source": [
    "if True:\n",
    "    print('true는 항상 동작합니다')\n",
    "if False:\n",
    "    print('False는 동작안해요')\n",
    "\n",
    "if 5>2:\n",
    "    print('5가 2보다 큼')\n",
    "if 4>10:\n",
    "    print('결과출력 안함')\n",
    "\n",
    "if '':\n",
    "    print(' ''나오나?')\n",
    "if ' ':\n",
    "    print(' 나오나?')\n",
    "if 0:\n",
    "    print('0 나오나?')\n",
    "   "
   ]
  },
  {
   "cell_type": "code",
   "execution_count": 3,
   "id": "7108e952-c99c-4a2c-b3db-f97aa13000c4",
   "metadata": {},
   "outputs": [
    {
     "name": "stdout",
     "output_type": "stream",
     "text": [
      "0 멈추기 전까지 계속 돌아가\n",
      "1 멈추기 전까지 계속 돌아가\n",
      "2 멈추기 전까지 계속 돌아가\n",
      "3 멈추기 전까지 계속 돌아가\n",
      "4 멈추기 전까지 계속 돌아가\n",
      "5 멈추기 전까지 계속 돌아가\n",
      "6 멈추기 전까지 계속 돌아가\n",
      "7 멈추기 전까지 계속 돌아가\n",
      "8 멈추기 전까지 계속 돌아가\n",
      "9 멈추기 전까지 계속 돌아가\n",
      "10 멈추기 전까지 계속 돌아가\n",
      "==============================\n",
      "10 멈추기 전까지 계속 돌아가\n",
      "9 멈추기 전까지 계속 돌아가\n",
      "8 멈추기 전까지 계속 돌아가\n",
      "7 멈추기 전까지 계속 돌아가\n",
      "6 멈추기 전까지 계속 돌아가\n",
      "5 멈추기 전까지 계속 돌아가\n",
      "4 멈추기 전까지 계속 돌아가\n",
      "3 멈추기 전까지 계속 돌아가\n",
      "2 멈추기 전까지 계속 돌아가\n",
      "1 멈추기 전까지 계속 돌아가\n"
     ]
    }
   ],
   "source": [
    "# while True:\n",
    "#     print('멈추기 전까지 계속 돌아가')\n",
    "num = 0\n",
    "while True:\n",
    "    print(num, '멈추기 전까지 계속 돌아가')\n",
    "    num += 1\n",
    "    if num > 10:\n",
    "        break\n",
    "print('='*30)        \n",
    "num1 = 10\n",
    "while num1:\n",
    "    print(num1, '멈추기 전까지 계속 돌아가')\n",
    "    num1 -= 1"
   ]
  },
  {
   "cell_type": "code",
   "execution_count": 4,
   "id": "b46a07a4-ad03-4125-8253-f378feae1647",
   "metadata": {},
   "outputs": [
    {
     "name": "stdout",
     "output_type": "stream",
     "text": [
      "택시를\n",
      "타고\n",
      "가라\n"
     ]
    }
   ],
   "source": [
    "if True:\n",
    "    print('택시를')\n",
    "    print('타고')\n",
    "    print('가라')"
   ]
  },
  {
   "cell_type": "code",
   "execution_count": 6,
   "id": "12bda448-89b8-4abb-920b-1f0b7637bd49",
   "metadata": {},
   "outputs": [],
   "source": [
    "# if True:\n",
    "#     print('택시를')\n",
    "# print('타고')\n",
    "#     print('가라')\n",
    "\n",
    "# 에러남"
   ]
  },
  {
   "cell_type": "code",
   "execution_count": 7,
   "id": "9e719ab1-e9ea-464e-ad9a-fe81aa3b20d0",
   "metadata": {},
   "outputs": [
    {
     "name": "stdout",
     "output_type": "stream",
     "text": [
      "가라\n"
     ]
    }
   ],
   "source": [
    "if False:\n",
    "    print('택시를')\n",
    "    print('타고')\n",
    "print('가라')"
   ]
  },
  {
   "cell_type": "code",
   "execution_count": 9,
   "id": "0ed13bfe-ed95-4b8b-8bab-a37d388bb7a3",
   "metadata": {},
   "outputs": [
    {
     "name": "stdin",
     "output_type": "stream",
     "text": [
      "얼마 가지고 있습니까 1500\n"
     ]
    },
    {
     "name": "stdout",
     "output_type": "stream",
     "text": [
      "걸어가세요\n"
     ]
    }
   ],
   "source": [
    "mymoney = int(input('얼마 가지고 있습니까'))\n",
    "if mymoney >= 3000:\n",
    "    print('택시 타세요')\n",
    "# if mymoney < 3000:\n",
    "else:\n",
    "    print('걸어가세요')"
   ]
  },
  {
   "cell_type": "code",
   "execution_count": null,
   "id": "54810430-8e49-4aa0-ba34-4718a4bcc900",
   "metadata": {},
   "outputs": [],
   "source": []
  }
 ],
 "metadata": {
  "kernelspec": {
   "display_name": "Python 3 (ipykernel)",
   "language": "python",
   "name": "python3"
  },
  "language_info": {
   "codemirror_mode": {
    "name": "ipython",
    "version": 3
   },
   "file_extension": ".py",
   "mimetype": "text/x-python",
   "name": "python",
   "nbconvert_exporter": "python",
   "pygments_lexer": "ipython3",
   "version": "3.13.1"
  }
 },
 "nbformat": 4,
 "nbformat_minor": 5
}
