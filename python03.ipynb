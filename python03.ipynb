{
 "cells": [
  {
   "cell_type": "markdown",
   "id": "2aa8f8e5-9b6c-478b-99e3-6ebac2856bbb",
   "metadata": {},
   "source": [
    "# 제어문"
   ]
  },
  {
   "cell_type": "code",
   "execution_count": 27,
   "id": "64adf4f1-4a10-44a9-9a50-46d50a1f0ac9",
   "metadata": {},
   "outputs": [
    {
     "name": "stdout",
     "output_type": "stream",
     "text": [
      "true는 항상 동작합니다\n",
      "5가 2보다 큼\n",
      " 나오나?\n"
     ]
    }
   ],
   "source": [
    "if True:\n",
    "    print('true는 항상 동작합니다')\n",
    "if False:\n",
    "    print('False는 동작안해요')\n",
    "\n",
    "if 5>2:\n",
    "    print('5가 2보다 큼')\n",
    "if 4>10:\n",
    "    print('결과출력 안함')\n",
    "\n",
    "if '':\n",
    "    print(' ''나오나?')\n",
    "if ' ':\n",
    "    print(' 나오나?')\n",
    "if 0:\n",
    "    print('0 나오나?')\n",
    "   "
   ]
  },
  {
   "cell_type": "code",
   "execution_count": 3,
   "id": "7108e952-c99c-4a2c-b3db-f97aa13000c4",
   "metadata": {},
   "outputs": [
    {
     "name": "stdout",
     "output_type": "stream",
     "text": [
      "0 멈추기 전까지 계속 돌아가\n",
      "1 멈추기 전까지 계속 돌아가\n",
      "2 멈추기 전까지 계속 돌아가\n",
      "3 멈추기 전까지 계속 돌아가\n",
      "4 멈추기 전까지 계속 돌아가\n",
      "5 멈추기 전까지 계속 돌아가\n",
      "6 멈추기 전까지 계속 돌아가\n",
      "7 멈추기 전까지 계속 돌아가\n",
      "8 멈추기 전까지 계속 돌아가\n",
      "9 멈추기 전까지 계속 돌아가\n",
      "10 멈추기 전까지 계속 돌아가\n",
      "==============================\n",
      "10 멈추기 전까지 계속 돌아가\n",
      "9 멈추기 전까지 계속 돌아가\n",
      "8 멈추기 전까지 계속 돌아가\n",
      "7 멈추기 전까지 계속 돌아가\n",
      "6 멈추기 전까지 계속 돌아가\n",
      "5 멈추기 전까지 계속 돌아가\n",
      "4 멈추기 전까지 계속 돌아가\n",
      "3 멈추기 전까지 계속 돌아가\n",
      "2 멈추기 전까지 계속 돌아가\n",
      "1 멈추기 전까지 계속 돌아가\n"
     ]
    }
   ],
   "source": [
    "# while True:\n",
    "#     print('멈추기 전까지 계속 돌아가')\n",
    "num = 0\n",
    "while True:\n",
    "    print(num, '멈추기 전까지 계속 돌아가')\n",
    "    num += 1\n",
    "    if num > 10:\n",
    "        break\n",
    "print('='*30)        \n",
    "num1 = 10\n",
    "while num1:\n",
    "    print(num1, '멈추기 전까지 계속 돌아가')\n",
    "    num1 -= 1"
   ]
  },
  {
   "cell_type": "code",
   "execution_count": 4,
   "id": "b46a07a4-ad03-4125-8253-f378feae1647",
   "metadata": {},
   "outputs": [
    {
     "name": "stdout",
     "output_type": "stream",
     "text": [
      "택시를\n",
      "타고\n",
      "가라\n"
     ]
    }
   ],
   "source": [
    "if True:\n",
    "    print('택시를')\n",
    "    print('타고')\n",
    "    print('가라')"
   ]
  },
  {
   "cell_type": "code",
   "execution_count": 6,
   "id": "12bda448-89b8-4abb-920b-1f0b7637bd49",
   "metadata": {},
   "outputs": [],
   "source": [
    "# if True:\n",
    "#     print('택시를')\n",
    "# print('타고')\n",
    "#     print('가라')\n",
    "\n",
    "# 에러남"
   ]
  },
  {
   "cell_type": "code",
   "execution_count": 7,
   "id": "9e719ab1-e9ea-464e-ad9a-fe81aa3b20d0",
   "metadata": {},
   "outputs": [
    {
     "name": "stdout",
     "output_type": "stream",
     "text": [
      "가라\n"
     ]
    }
   ],
   "source": [
    "if False:\n",
    "    print('택시를')\n",
    "    print('타고')\n",
    "print('가라')"
   ]
  },
  {
   "cell_type": "code",
   "execution_count": 9,
   "id": "0ed13bfe-ed95-4b8b-8bab-a37d388bb7a3",
   "metadata": {},
   "outputs": [
    {
     "name": "stdin",
     "output_type": "stream",
     "text": [
      "얼마 가지고 있습니까 1500\n"
     ]
    },
    {
     "name": "stdout",
     "output_type": "stream",
     "text": [
      "걸어가세요\n"
     ]
    }
   ],
   "source": [
    "mymoney = int(input('얼마 가지고 있습니까'))\n",
    "if mymoney >= 3000:\n",
    "    print('택시 타세요')\n",
    "# if mymoney < 3000:\n",
    "else:\n",
    "    print('걸어가세요')"
   ]
  },
  {
   "cell_type": "code",
   "execution_count": 10,
   "id": "54810430-8e49-4aa0-ba34-4718a4bcc900",
   "metadata": {},
   "outputs": [],
   "source": [
    "# and, or, not"
   ]
  },
  {
   "cell_type": "code",
   "execution_count": 13,
   "id": "a31a85eb-a218-4590-8bc1-6513d60287a9",
   "metadata": {},
   "outputs": [
    {
     "name": "stdout",
     "output_type": "stream",
     "text": [
      "=====and 연산=====\n",
      "True\n",
      "False\n",
      "False\n",
      "False\n",
      "======or 연산=====\n",
      "True\n",
      "True\n",
      "True\n",
      "False\n",
      "======not 연산=====\n",
      "True\n",
      "False\n",
      "True\n"
     ]
    }
   ],
   "source": [
    "print('=====and 연산=====')\n",
    "print(True and True)\n",
    "print(True and False)\n",
    "print(False and True)\n",
    "print(False and False)\n",
    "print('======or 연산=====')\n",
    "print(True or True)\n",
    "print(True or False)\n",
    "print(False or True)\n",
    "print(False or False)\n",
    "print('======not 연산=====')\n",
    "print(True)\n",
    "print(not True)\n",
    "print(not False)\n"
   ]
  },
  {
   "cell_type": "code",
   "execution_count": 19,
   "id": "0c8a77cb-5af3-4bc1-bf01-dfe9bb3093f9",
   "metadata": {},
   "outputs": [
    {
     "name": "stdout",
     "output_type": "stream",
     "text": [
      "만나요\n"
     ]
    }
   ],
   "source": [
    "이상형 = True\n",
    "똑똑 = True\n",
    "if 이상형 and 똑똑:\n",
    "    print('만나요')\n",
    "else:\n",
    "    print('그래요..')"
   ]
  },
  {
   "cell_type": "code",
   "execution_count": 18,
   "id": "58f7dc6d-b9f2-4eb7-b2b4-974dfce9b940",
   "metadata": {},
   "outputs": [
    {
     "name": "stdout",
     "output_type": "stream",
     "text": [
      "그래요..\n"
     ]
    }
   ],
   "source": [
    "이상형 = False\n",
    "다정 = False\n",
    "if 이상형 or 다정:\n",
    "    print('만나요')\n",
    "else:\n",
    "    print('그래요..')"
   ]
  },
  {
   "cell_type": "code",
   "execution_count": 20,
   "id": "76da6783-876c-4d3a-8883-0f1b0307fd18",
   "metadata": {},
   "outputs": [
    {
     "name": "stdout",
     "output_type": "stream",
     "text": [
      "만나요\n"
     ]
    }
   ],
   "source": [
    "주사 = False\n",
    "if not 주사:\n",
    "    print('만나요')\n",
    "else:\n",
    "    print('잘가요')"
   ]
  },
  {
   "cell_type": "code",
   "execution_count": 23,
   "id": "aec681fc-6aac-41d3-bf43-424bc6f84ac3",
   "metadata": {},
   "outputs": [
    {
     "name": "stdout",
     "output_type": "stream",
     "text": [
      "택시 타고 가\n"
     ]
    }
   ],
   "source": [
    "money = 20000\n",
    "card = True\n",
    "if money >= 30000 or card:\n",
    "    print('택시 타고 가')\n",
    "else:\n",
    "    print('걸어가')"
   ]
  },
  {
   "cell_type": "code",
   "execution_count": 29,
   "id": "89a90015-c444-4701-87c9-2de8ed83e309",
   "metadata": {},
   "outputs": [
    {
     "name": "stdout",
     "output_type": "stream",
     "text": [
      "A회사 불합격입니다\n",
      "B회사 합격입니다\n",
      "C회사 불합격입니다\n"
     ]
    }
   ],
   "source": [
    "me = 'CSS'\n",
    "compA = ['JAVA','HTML','Python','C','Javascript','MySQL']\n",
    "compB = ['JAVA','HTML','Python','CSS','Javascript','MySQL']\n",
    "compC = ['JAVA','HTML','Python','Javascript','MySQL']\n",
    "if me in compA:\n",
    "    print('A회사 합격입니다')\n",
    "else:\n",
    "    print('A회사 불합격입니다')\n",
    "if me in compB:\n",
    "    print('B회사 합격입니다')\n",
    "else:\n",
    "    print('B회사 불합격입니다')\n",
    "if me in compC:\n",
    "    print('C회사 합격입니다')\n",
    "else:\n",
    "    print('C회사 불합격입니다')"
   ]
  },
  {
   "cell_type": "code",
   "execution_count": 58,
   "id": "08185cd1-48ca-485a-b69c-4fdf98fcabb6",
   "metadata": {},
   "outputs": [
    {
     "name": "stdin",
     "output_type": "stream",
     "text": [
      "점수를 입력하세요 84\n"
     ]
    },
    {
     "name": "stdout",
     "output_type": "stream",
     "text": [
      "B\n"
     ]
    }
   ],
   "source": [
    "score = int(input('점수를 입력하세요'))\n",
    "\n",
    "# if score >= 90 and score <= 100:\n",
    "#     print('A')\n",
    "if 90 <= score <= 100:\n",
    "    print('A')\n",
    "if 80 <= score < 90:\n",
    "    print('B')\n",
    "if 70 <= score < 80:\n",
    "    print('C')\n",
    "if 60 <= score < 70:\n",
    "    print('D')\n",
    "if score < 60:\n",
    "    print('F')\n"
   ]
  },
  {
   "cell_type": "code",
   "execution_count": 60,
   "id": "e72db7db-066e-4029-a253-b88396ebe351",
   "metadata": {},
   "outputs": [
    {
     "name": "stdin",
     "output_type": "stream",
     "text": [
      "점수를 입력하세요 100\n"
     ]
    },
    {
     "name": "stdout",
     "output_type": "stream",
     "text": [
      "A학점\n"
     ]
    }
   ],
   "source": [
    "# if, elif, else 모두 사용한 방법\n",
    "score = int(input('점수를 입력하세요') )\n",
    "\n",
    "if 90 <= score <= 100: grade = 'A'\n",
    "elif 80 <= score: grade = 'B'\n",
    "elif 70 <= score: grade = 'C'\n",
    "elif 60 <= score: grade = 'D'\n",
    "else: grade = 'F'\n",
    "print(f'{grade}학점')"
   ]
  },
  {
   "cell_type": "code",
   "execution_count": 62,
   "id": "72201739-672b-4ae7-875f-c9a7e278221f",
   "metadata": {},
   "outputs": [
    {
     "name": "stdin",
     "output_type": "stream",
     "text": [
      "점수를 입력하세요 88\n"
     ]
    },
    {
     "name": "stdout",
     "output_type": "stream",
     "text": [
      "D학점\n"
     ]
    }
   ],
   "source": [
    "# elif는 순서를 바꾸면 답이 달라질 수도 있음 그러므로 배치를 잘 해야한다\n",
    "# 주의\n",
    "score = int(input('점수를 입력하세요'))\n",
    "\n",
    "if 60 <= score: grade = 'D'\n",
    "elif 80 <= score: grade = 'B'\n",
    "elif 70 <= score: grade = 'C'\n",
    "elif 90 <= score <= 100: grade = 'A'   \n",
    "else: grade = 'F'\n",
    "print(f'{grade}학점')"
   ]
  },
  {
   "cell_type": "code",
   "execution_count": null,
   "id": "188be7a1-77e1-4c65-b22e-9b0aa7fc0d56",
   "metadata": {},
   "outputs": [],
   "source": []
  }
 ],
 "metadata": {
  "kernelspec": {
   "display_name": "Python 3 (ipykernel)",
   "language": "python",
   "name": "python3"
  },
  "language_info": {
   "codemirror_mode": {
    "name": "ipython",
    "version": 3
   },
   "file_extension": ".py",
   "mimetype": "text/x-python",
   "name": "python",
   "nbconvert_exporter": "python",
   "pygments_lexer": "ipython3",
   "version": "3.13.1"
  }
 },
 "nbformat": 4,
 "nbformat_minor": 5
}
