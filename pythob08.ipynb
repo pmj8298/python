{
 "cells": [
  {
   "cell_type": "markdown",
   "id": "10319ea6-04e5-4848-9e00-6b106f9b7138",
   "metadata": {},
   "source": [
    "# 외부 라이브러리"
   ]
  },
  {
   "cell_type": "markdown",
   "id": "9e9f73a4-5d40-436c-ab2d-3c0a9166bc6a",
   "metadata": {},
   "source": [
    "## pip *"
   ]
  },
  {
   "cell_type": "markdown",
   "id": "e2641365-d751-4a07-a1c2-58bc7a82c252",
   "metadata": {},
   "source": [
    "백업 pip freeze > requirements.txt<br>\n",
    "복구 pip install -r requirements.txt"
   ]
  },
  {
   "cell_type": "markdown",
   "id": "6debeb96-f78f-4869-a302-e430e6dabe47",
   "metadata": {},
   "source": [
    "## Faker"
   ]
  },
  {
   "cell_type": "code",
   "execution_count": 1,
   "id": "e12af9cb-af1f-4b4a-a0ec-3ca040c39a60",
   "metadata": {},
   "outputs": [
    {
     "name": "stdout",
     "output_type": "stream",
     "text": [
      "Collecting Faker\n",
      "  Downloading Faker-36.1.1-py3-none-any.whl.metadata (15 kB)\n",
      "Collecting tzdata (from Faker)\n",
      "  Downloading tzdata-2025.1-py2.py3-none-any.whl.metadata (1.4 kB)\n",
      "Downloading Faker-36.1.1-py3-none-any.whl (1.9 MB)\n",
      "   ---------------------------------------- 0.0/1.9 MB ? eta -:--:--\n",
      "   ---------------------------------------- 1.9/1.9 MB 51.2 MB/s eta 0:00:00\n",
      "Downloading tzdata-2025.1-py2.py3-none-any.whl (346 kB)\n",
      "Installing collected packages: tzdata, Faker\n",
      "Successfully installed Faker-36.1.1 tzdata-2025.1\n"
     ]
    }
   ],
   "source": [
    "!pip install Faker"
   ]
  },
  {
   "cell_type": "code",
   "execution_count": 5,
   "id": "ff060fc7-449b-4813-b0b5-5246e3d079b0",
   "metadata": {},
   "outputs": [
    {
     "data": {
      "text/plain": [
       "[{'name': '김선영',\n",
       "  'id': 'pi',\n",
       "  'phone': '070-4141-0928',\n",
       "  'email': 'bagsangceol@example.com'},\n",
       " {'name': '최시우',\n",
       "  'id': 'kno',\n",
       "  'phone': '043-723-0178',\n",
       "  'email': 'bno@example.com'},\n",
       " {'name': '김성진',\n",
       "  'id': 'jeongsig21',\n",
       "  'phone': '051-124-6302',\n",
       "  'email': 'hyeonjun36@example.net'},\n",
       " {'name': '안예진',\n",
       "  'id': 'gimmyeongja',\n",
       "  'phone': '032-518-7560',\n",
       "  'email': 'ancunja@example.org'},\n",
       " {'name': '장영수',\n",
       "  'id': 'sugjasong',\n",
       "  'phone': '063-120-7346',\n",
       "  'email': 'ngim@example.org'},\n",
       " {'name': '이영호',\n",
       "  'id': 'seohyeoncoe',\n",
       "  'phone': '042-411-8875',\n",
       "  'email': 'hyeonju54@example.org'},\n",
       " {'name': '배민재',\n",
       "  'id': 'sangceolsong',\n",
       "  'phone': '063-115-0680',\n",
       "  'email': 'seonghun68@example.org'},\n",
       " {'name': '박준호',\n",
       "  'id': 'vgim',\n",
       "  'phone': '070-6767-8097',\n",
       "  'email': 'hongyeonghwan@example.com'},\n",
       " {'name': '이지원',\n",
       "  'id': 'jeongung00',\n",
       "  'phone': '033-209-1088',\n",
       "  'email': 'jungsuhan@example.net'},\n",
       " {'name': '나현숙',\n",
       "  'id': 'seojungim',\n",
       "  'phone': '054-504-2529',\n",
       "  'email': 'ncoe@example.org'}]"
      ]
     },
     "execution_count": 5,
     "metadata": {},
     "output_type": "execute_result"
    }
   ],
   "source": [
    "from faker import Faker\n",
    "fake = Faker('ko-KR')\n",
    "[{'name':fake.name(), 'id':fake.user_name(), 'phone': fake.phone_number(), 'email':fake.email()} for n in range(10)]"
   ]
  },
  {
   "cell_type": "markdown",
   "id": "b561cc8c-c2eb-4e24-995d-6a92133947d4",
   "metadata": {},
   "source": [
    "<table style='float:left; width:500px'>\n",
    "<thead>\n",
    "<tr>\n",
    "<th>항목</th>\n",
    "<th>설명</th>\n",
    "</tr>\n",
    "</thead>\n",
    "<tbody>\n",
    "<tr>\n",
    "<td>fake.name()</td>\n",
    "<td>이름</td>\n",
    "</tr>\n",
    "<tr>\n",
    "<td>fake.address()</td>\n",
    "<td>주소</td>\n",
    "</tr>\n",
    "<tr>\n",
    "<td>fake.postcode()</td>\n",
    "<td>우편 번호</td>\n",
    "</tr>\n",
    "<tr>\n",
    "<td>fake.country()</td>\n",
    "<td>국가명</td>\n",
    "</tr>\n",
    "<tr>\n",
    "<td>fake.company()</td>\n",
    "<td>회사명</td>\n",
    "</tr>\n",
    "<tr>\n",
    "<td>fake.job()</td>\n",
    "<td>직업명</td>\n",
    "</tr>\n",
    "<tr>\n",
    "<td>fake.phone_number()</td>\n",
    "<td>휴대전화 번호</td>\n",
    "</tr>\n",
    "<tr>\n",
    "<td>fake.email()</td>\n",
    "<td>이메일 주소</td>\n",
    "</tr>\n",
    "<tr>\n",
    "<td>fake.user_name()</td>\n",
    "<td>사용자명</td>\n",
    "</tr>\n",
    "<tr>\n",
    "<td>fake.pyint(min_value=0, max_value=100)</td>\n",
    "<td>0부터 100 사이의 임의의 숫자</td>\n",
    "</tr>\n",
    "<tr>\n",
    "<td>fake.ipv4_private()</td>\n",
    "<td>IP 주소</td>\n",
    "</tr>\n",
    "<tr>\n",
    "<td>fake.text()</td>\n",
    "<td>임의의 문장 (한글 임의의 문장은 <code>fake.catch_phrase()</code> 사용)</td>\n",
    "</tr>\n",
    "<tr>\n",
    "<td>fake.color_name()</td>\n",
    "<td>색상명</td>\n",
    "</tr>\n",
    "</tbody>\n",
    "</table>"
   ]
  },
  {
   "cell_type": "markdown",
   "id": "dd8e348d-830f-4107-b391-ddf8494e2e07",
   "metadata": {},
   "source": [
    "## sympy"
   ]
  },
  {
   "cell_type": "code",
   "execution_count": 7,
   "id": "8fc9bcf0-02f3-4950-8fc8-e6cf3fd26cd5",
   "metadata": {},
   "outputs": [
    {
     "name": "stdout",
     "output_type": "stream",
     "text": [
      "Collecting sympy\n",
      "  Downloading sympy-1.13.3-py3-none-any.whl.metadata (12 kB)\n",
      "Collecting mpmath<1.4,>=1.1.0 (from sympy)\n",
      "  Downloading mpmath-1.3.0-py3-none-any.whl.metadata (8.6 kB)\n",
      "Downloading sympy-1.13.3-py3-none-any.whl (6.2 MB)\n",
      "   ---------------------------------------- 0.0/6.2 MB ? eta -:--:--\n",
      "   ------------------------------ --------- 4.7/6.2 MB 27.0 MB/s eta 0:00:01\n",
      "   ---------------------------------------- 6.2/6.2 MB 27.7 MB/s eta 0:00:00\n",
      "Downloading mpmath-1.3.0-py3-none-any.whl (536 kB)\n",
      "   ---------------------------------------- 0.0/536.2 kB ? eta -:--:--\n",
      "   --------------------------------------- 536.2/536.2 kB 20.9 MB/s eta 0:00:00\n",
      "Installing collected packages: mpmath, sympy\n",
      "Successfully installed mpmath-1.3.0 sympy-1.13.3\n"
     ]
    }
   ],
   "source": [
    "!pip install sympy"
   ]
  },
  {
   "cell_type": "code",
   "execution_count": 9,
   "id": "387fc956-6a6a-49cc-9c2e-f0f5f3c8a12b",
   "metadata": {},
   "outputs": [
    {
     "name": "stdout",
     "output_type": "stream",
     "text": [
      "남은 돈은 2640원 입니다.\n"
     ]
    }
   ],
   "source": [
    "from fractions import Fraction\n",
    "import sympy\n",
    "\n",
    "# 가지고 있던 돈을 x라고 하자.\n",
    "x = sympy.symbols(\"x\")\n",
    "\n",
    "# 가지고 있던 돈의 2/5가 1760원이므로 방정식은 x * (2/5) = 1760 이다.\n",
    "f = sympy.Eq(x*Fraction('2/5'), 1760)\n",
    "\n",
    "# 방정식을 만족하는 값(result)을 구한다.\n",
    "result = sympy.solve(f)  # 결괏값은 리스트\n",
    "\n",
    "# 남은 돈은 다음과 같이 가지고 있던 돈에서 1760원을 빼면 된다.\n",
    "remains = result[0] - 1760\n",
    "\n",
    "print('남은 돈은 {}원 입니다.'.format(remains))\n"
   ]
  },
  {
   "cell_type": "code",
   "execution_count": 18,
   "id": "e712d30c-68e5-4ff2-800c-4f83207da9ae",
   "metadata": {},
   "outputs": [
    {
     "name": "stdout",
     "output_type": "stream",
     "text": [
      "1위:  REBEL HEART / IVE (아이브)\n"
     ]
    }
   ],
   "source": [
    "import requests as req\n",
    "from bs4 import BeautifulSoup as bs\n",
    "url = 'https://www.melon.com/chart/index.htm'\n",
    "headers = {'User-Agent':'Mozilla/5.0 (Windows NT 10.0; Win64; x64) AppleWebKit/537.36 (KHTML, like Gecko) Chrome/132.0.0.0 Safari/537.36'}\n",
    "web = req.get(url, headers = headers)\n",
    "# print(web)\n",
    "soup = bs(web.content, 'html.parser')\n",
    "# print(soup)\n",
    "title = soup.select_one('.wrap_song_info')\n",
    "# print(title)\n",
    "# <div class=\"wrap_song_info\">\n",
    "# <div class=\"ellipsis rank01\"><span>\n",
    "# <a href=\"javascript:melon.play.playSong('1000002721',38444825);\" title=\"REBEL HEART 재생\">REBEL HEART</a>\n",
    "# </span></div><br/>\n",
    "# <div class=\"ellipsis rank02\">\n",
    "# <a href=\"javascript:melon.link.goArtistDetail('3055146');\" title=\"IVE (아이브) - 페이지 이동\">IVE (아이브)</a><span class=\"checkEllipsis\" style=\"display:none\"><a href=\"javascript:melon.link.goArtistDetail('3055146');\" title=\"IVE (아이브) - 페이지 이동\">IVE (아이브)</a></span>\n",
    "# </div>\n",
    "# </div>\n",
    "atitle = title.select_one('a')\n",
    "#print(atitle) # <a href=\"javascript:melon.play.playSong('1000002721',38444825);\" title=\"REBEL HEART 재생\">REBEL HEART</a>\n",
    "# print(atitle.text)\n",
    "aname0 = title.select_one('.checkEllipsis')\n",
    "aname = aname0.select_one('a')\n",
    "\n",
    "print('1위: ', atitle.text, '/', aname.text)"
   ]
  },
  {
   "cell_type": "code",
   "execution_count": null,
   "id": "ca731880-d66d-4760-a1ff-816fb866bdb3",
   "metadata": {},
   "outputs": [],
   "source": []
  }
 ],
 "metadata": {
  "kernelspec": {
   "display_name": "Python 3 (ipykernel)",
   "language": "python",
   "name": "python3"
  },
  "language_info": {
   "codemirror_mode": {
    "name": "ipython",
    "version": 3
   },
   "file_extension": ".py",
   "mimetype": "text/x-python",
   "name": "python",
   "nbconvert_exporter": "python",
   "pygments_lexer": "ipython3",
   "version": "3.13.1"
  }
 },
 "nbformat": 4,
 "nbformat_minor": 5
}
